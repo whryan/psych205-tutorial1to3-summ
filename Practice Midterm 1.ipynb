{
 "cells": [
  {
   "cell_type": "code",
   "execution_count": null,
   "metadata": {
    "collapsed": true
   },
   "outputs": [],
   "source": []
  },
  {
   "cell_type": "code",
   "execution_count": 3,
   "metadata": {},
   "outputs": [
    {
     "name": "stderr",
     "output_type": "stream",
     "text": [
      "Warning message:\n",
      "\"package 'car' was built under R version 3.4.3\""
     ]
    }
   ],
   "source": [
    "# We are going to use the car libraries\n",
    "library(car)\n",
    "\n",
    "# And take a look at the Davis data set that has height and weight data (Actual and Reported)\n",
    "# for men and women. Weight measurements are in kg and height in cm.\n",
    "\n",
    "#View(Davis)\n",
    "# Fixing a line where weight and height had been switched.\n",
    "Davis$height[12] = 166\n",
    "Davis$weight[12] = 57\n"
   ]
  },
  {
   "cell_type": "markdown",
   "metadata": {},
   "source": [
    "### Question 1\n",
    "What is the sample size of this data set? (1pt)"
   ]
  },
  {
   "cell_type": "code",
   "execution_count": 20,
   "metadata": {},
   "outputs": [],
   "source": [
    "n = nrow(Davis)\n",
    "#200"
   ]
  },
  {
   "cell_type": "markdown",
   "metadata": {},
   "source": [
    "### Question 2\n",
    "Plot this data on a scatterplot with weight on the y axis and height on the x axis. (1 pt)"
   ]
  },
  {
   "cell_type": "code",
   "execution_count": 5,
   "metadata": {},
   "outputs": [
    {
     "data": {
      "image/png": "[encoded data removed]",
      "text/plain": [
       "plot without title"
      ]
     },
     "metadata": {},
     "output_type": "display_data"
    }
   ],
   "source": [
    "plot(x=Davis$height, y=Davis$weight)\n"
   ]
  },
  {
   "cell_type": "markdown",
   "metadata": {},
   "source": [
    "### Question 3\n",
    "Make two linear models that predicts weight from height one for women and one for men.\n",
    "To select men or women use either the subset command or logical indexing.\n",
    "Show the summary output of these two models.  What can you say in english about the slopes of these two models? (2 pt)"
   ]
  },
  {
   "cell_type": "code",
   "execution_count": 6,
   "metadata": {
    "collapsed": true
   },
   "outputs": [],
   "source": [
    "males = Davis[Davis$sex==\"M\",]\n",
    "females = Davis[Davis$sex==\"F\",]"
   ]
  },
  {
   "cell_type": "code",
   "execution_count": 7,
   "metadata": {
    "collapsed": true
   },
   "outputs": [],
   "source": [
    "male_mod = lm(weight ~ height, data=males)\n",
    "female_mod = lm(weight ~ height, data=females)"
   ]
  },
  {
   "cell_type": "code",
   "execution_count": 8,
   "metadata": {},
   "outputs": [
    {
     "data": {
      "text/plain": [
       "\n",
       "Call:\n",
       "lm(formula = weight ~ height, data = males)\n",
       "\n",
       "Residuals:\n",
       "    Min      1Q  Median      3Q     Max \n",
       "-20.869  -6.893  -0.897   6.114  41.122 \n",
       "\n",
       "Coefficients:\n",
       "             Estimate Std. Error t value Pr(>|t|)    \n",
       "(Intercept) -101.3301    29.8617  -3.393  0.00105 ** \n",
       "height         0.9956     0.1676   5.939 5.92e-08 ***\n",
       "---\n",
       "Signif. codes:  0 '***' 0.001 '**' 0.01 '*' 0.05 '.' 0.1 ' ' 1\n",
       "\n",
       "Residual standard error: 10.07 on 86 degrees of freedom\n",
       "Multiple R-squared:  0.2908,\tAdjusted R-squared:  0.2826 \n",
       "F-statistic: 35.27 on 1 and 86 DF,  p-value: 5.922e-08\n"
      ]
     },
     "metadata": {},
     "output_type": "display_data"
    }
   ],
   "source": [
    "summary(male_mod)"
   ]
  },
  {
   "cell_type": "code",
   "execution_count": 9,
   "metadata": {
    "scrolled": true
   },
   "outputs": [
    {
     "data": {
      "text/plain": [
       "\n",
       "Call:\n",
       "lm(formula = weight ~ height, data = females)\n",
       "\n",
       "Residuals:\n",
       "     Min       1Q   Median       3Q      Max \n",
       "-13.0893  -3.4811  -0.9006   3.4246  19.7973 \n",
       "\n",
       "Coefficients:\n",
       "             Estimate Std. Error t value Pr(>|t|)    \n",
       "(Intercept) -45.67296   16.34139  -2.795  0.00613 ** \n",
       "height        0.62269    0.09915   6.280 6.92e-09 ***\n",
       "---\n",
       "Signif. codes:  0 '***' 0.001 '**' 0.01 '*' 0.05 '.' 0.1 ' ' 1\n",
       "\n",
       "Residual standard error: 5.912 on 110 degrees of freedom\n",
       "Multiple R-squared:  0.2639,\tAdjusted R-squared:  0.2572 \n",
       "F-statistic: 39.44 on 1 and 110 DF,  p-value: 6.922e-09\n"
      ]
     },
     "metadata": {},
     "output_type": "display_data"
    }
   ],
   "source": [
    "summary(female_mod)"
   ]
  },
  {
   "cell_type": "markdown",
   "metadata": {},
   "source": [
    "For both of these models as height increases, so does weight. The slope of the model for men is steeper than that of women\n",
    "This means that as men gain an additional unit of weight they gain more units of weight than women do\n",
    "For men they gain .99 units of weight for each unit of height, while women gain .62 units of weight for each unit of height"
   ]
  },
  {
   "cell_type": "markdown",
   "metadata": {},
   "source": [
    "### Question 3b\n",
    "Run a single model using lm() command that also give you these two lines\n",
    "Check to verify that you get the same results for the intercept and slope of these two lines.\n",
    "Show me how you checked.  (2 pts)"
   ]
  },
  {
   "cell_type": "code",
   "execution_count": 10,
   "metadata": {},
   "outputs": [
    {
     "data": {
      "text/plain": [
       "\n",
       "Call:\n",
       "lm(formula = weight ~ height * sex, data = Davis)\n",
       "\n",
       "Residuals:\n",
       "    Min      1Q  Median      3Q     Max \n",
       "-20.869  -4.835  -0.897   4.429  41.122 \n",
       "\n",
       "Coefficients:\n",
       "            Estimate Std. Error t value Pr(>|t|)    \n",
       "(Intercept) -45.6730    22.1342  -2.063   0.0404 *  \n",
       "height        0.6227     0.1343   4.637 6.46e-06 ***\n",
       "sexM        -55.6571    32.4597  -1.715   0.0880 .  \n",
       "height:sexM   0.3729     0.1892   1.971   0.0502 .  \n",
       "---\n",
       "Signif. codes:  0 '***' 0.001 '**' 0.01 '*' 0.05 '.' 0.1 ' ' 1\n",
       "\n",
       "Residual standard error: 8.007 on 196 degrees of freedom\n",
       "Multiple R-squared:  0.6442,\tAdjusted R-squared:  0.6388 \n",
       "F-statistic: 118.3 on 3 and 196 DF,  p-value: < 2.2e-16\n"
      ]
     },
     "metadata": {},
     "output_type": "display_data"
    }
   ],
   "source": [
    "int_mod = lm(weight ~ height*sex, data=Davis)\n",
    "summary(int_mod)"
   ]
  },
  {
   "cell_type": "code",
   "execution_count": 11,
   "metadata": {},
   "outputs": [
    {
     "data": {
      "text/html": [
       "-101.32"
      ],
      "text/latex": [
       "-101.32"
      ],
      "text/markdown": [
       "-101.32"
      ],
      "text/plain": [
       "[1] -101.32"
      ]
     },
     "metadata": {},
     "output_type": "display_data"
    },
    {
     "data": {
      "text/html": [
       "0.9949"
      ],
      "text/latex": [
       "0.9949"
      ],
      "text/markdown": [
       "0.9949"
      ],
      "text/plain": [
       "[1] 0.9949"
      ]
     },
     "metadata": {},
     "output_type": "display_data"
    }
   ],
   "source": [
    "#women is baseline - intercept -45, coef .62\n",
    "\n",
    "#men is not -- intercept is \n",
    "-55.65 + -45.67\n",
    "#-101\n",
    "#coefficient is\n",
    ".622+.3729\n",
    "#.9949\n",
    "\n",
    "#this is roughly identical to the coefficients previously"
   ]
  },
  {
   "cell_type": "code",
   "execution_count": 12,
   "metadata": {
    "collapsed": true
   },
   "outputs": [],
   "source": [
    "male_int = coef(male_mod)[1]\n",
    "male_coef = coef(male_mod)[2]"
   ]
  },
  {
   "cell_type": "code",
   "execution_count": 13,
   "metadata": {
    "collapsed": true
   },
   "outputs": [],
   "source": [
    "female_int = coef(female_mod)[1]\n",
    "female_coef = coef(female_mod)[2]"
   ]
  },
  {
   "cell_type": "code",
   "execution_count": 14,
   "metadata": {},
   "outputs": [
    {
     "data": {
      "text/html": [
       "<dl class=dl-horizontal>\n",
       "\t<dt>(Intercept)</dt>\n",
       "\t\t<dd>-45.6729625462148</dd>\n",
       "\t<dt>height</dt>\n",
       "\t\t<dd>0.622689278251087</dd>\n",
       "\t<dt>sexM</dt>\n",
       "\t\t<dd>-55.6570877385857</dd>\n",
       "\t<dt>height:sexM</dt>\n",
       "\t\t<dd>0.372908833786094</dd>\n",
       "</dl>\n"
      ],
      "text/latex": [
       "\\begin{description*}\n",
       "\\item[(Intercept)] -45.6729625462148\n",
       "\\item[height] 0.622689278251087\n",
       "\\item[sexM] -55.6570877385857\n",
       "\\item[height:sexM] 0.372908833786094\n",
       "\\end{description*}\n"
      ],
      "text/markdown": [
       "(Intercept)\n",
       ":   -45.6729625462148height\n",
       ":   0.622689278251087sexM\n",
       ":   -55.6570877385857height:sexM\n",
       ":   0.372908833786094\n",
       "\n"
      ],
      "text/plain": [
       "(Intercept)      height        sexM height:sexM \n",
       "-45.6729625   0.6226893 -55.6570877   0.3729088 "
      ]
     },
     "metadata": {},
     "output_type": "display_data"
    }
   ],
   "source": [
    "#coefficients of the interaction model\n",
    "coef(int_mod)"
   ]
  },
  {
   "cell_type": "code",
   "execution_count": 15,
   "metadata": {},
   "outputs": [
    {
     "data": {
      "text/html": [
       "<dl class=dl-horizontal>\n",
       "\t<dt>(Intercept)</dt>\n",
       "\t\t<dd>-45.6729625462141</dd>\n",
       "\t<dt>height</dt>\n",
       "\t\t<dd>0.622689278251083</dd>\n",
       "\t<dt>(Intercept)</dt>\n",
       "\t\t<dd>-55.657087738586</dd>\n",
       "\t<dt>height</dt>\n",
       "\t\t<dd>0.372908833786096</dd>\n",
       "</dl>\n"
      ],
      "text/latex": [
       "\\begin{description*}\n",
       "\\item[(Intercept)] -45.6729625462141\n",
       "\\item[height] 0.622689278251083\n",
       "\\item[(Intercept)] -55.657087738586\n",
       "\\item[height] 0.372908833786096\n",
       "\\end{description*}\n"
      ],
      "text/markdown": [
       "(Intercept)\n",
       ":   -45.6729625462141height\n",
       ":   0.622689278251083(Intercept)\n",
       ":   -55.657087738586height\n",
       ":   0.372908833786096\n",
       "\n"
      ],
      "text/plain": [
       "(Intercept)      height (Intercept)      height \n",
       "-45.6729625   0.6226893 -55.6570877   0.3729088 "
      ]
     },
     "metadata": {},
     "output_type": "display_data"
    }
   ],
   "source": [
    "#Compare to coefficients of the two models seperately, adjusted for new baseline\n",
    "c(female_int, female_coef, male_int-female_int, male_coef-female_coef)"
   ]
  },
  {
   "cell_type": "markdown",
   "metadata": {},
   "source": [
    "### Question 4\n",
    "Now, plot the regression lines from your models on your scatter plot. \n",
    "Use different colors for the two lines. (1 pt.)"
   ]
  },
  {
   "cell_type": "code",
   "execution_count": 16,
   "metadata": {},
   "outputs": [
    {
     "data": {
      "image/png": "[encoded data removed]",
      "text/plain": [
       "plot without title"
      ]
     },
     "metadata": {},
     "output_type": "display_data"
    }
   ],
   "source": [
    "plot(x=Davis$height, y=Davis$weight)\n",
    "abline(male_mod, col='red')\n",
    "abline(female_mod, col='blue')"
   ]
  },
  {
   "cell_type": "markdown",
   "metadata": {},
   "source": [
    "### Question 5\n",
    "What is the predicted weight of a 170 cm women? (1 pt)"
   ]
  },
  {
   "cell_type": "code",
   "execution_count": 17,
   "metadata": {},
   "outputs": [
    {
     "data": {
      "text/html": [
       "<strong>(Intercept):</strong> 60.1842147564701"
      ],
      "text/latex": [
       "\\textbf{(Intercept):} 60.1842147564701"
      ],
      "text/markdown": [
       "**(Intercept):** 60.1842147564701"
      ],
      "text/plain": [
       "(Intercept) \n",
       "   60.18421 "
      ]
     },
     "metadata": {},
     "output_type": "display_data"
    }
   ],
   "source": [
    "female_int + 170*female_coef"
   ]
  },
  {
   "cell_type": "markdown",
   "metadata": {},
   "source": [
    "60.18 kg"
   ]
  },
  {
   "cell_type": "markdown",
   "metadata": {},
   "source": [
    "### Question 6. \n",
    "Using a for loop calculate the mean and the standard error of weight for random samples of 16, 25, 36, 42, 64, 81, 100, 144 and 169.\n",
    "Plot the standard error as a function of the sample size.  On the same plot add the standard error that you would expect from the standard deviation obtained from the entire data set. (Start by writing down the equation for the standard error of the mean from the standard deviation) (2 pt)"
   ]
  },
  {
   "cell_type": "code",
   "execution_count": 24,
   "metadata": {},
   "outputs": [],
   "source": [
    "samp.Means  <- array(0,9)\n",
    "samp.n <- array(0,9)\n",
    "samp.SE <- array(0,9)\n",
    "samp.SE.All <- array(0,9)\n",
    "weight.sd <- sd(Davis$weight)\n"
   ]
  },
  {
   "cell_type": "code",
   "execution_count": 25,
   "metadata": {},
   "outputs": [
    {
     "data": {
      "text/html": [
       "<ol class=list-inline>\n",
       "\t<li>85</li>\n",
       "\t<li>120</li>\n",
       "\t<li>27</li>\n",
       "\t<li>169</li>\n",
       "\t<li>8</li>\n",
       "\t<li>104</li>\n",
       "\t<li>79</li>\n",
       "\t<li>19</li>\n",
       "\t<li>84</li>\n",
       "\t<li>124</li>\n",
       "\t<li>92</li>\n",
       "\t<li>30</li>\n",
       "\t<li>148</li>\n",
       "\t<li>49</li>\n",
       "\t<li>21</li>\n",
       "\t<li>137</li>\n",
       "</ol>\n"
      ],
      "text/latex": [
       "\\begin{enumerate*}\n",
       "\\item 85\n",
       "\\item 120\n",
       "\\item 27\n",
       "\\item 169\n",
       "\\item 8\n",
       "\\item 104\n",
       "\\item 79\n",
       "\\item 19\n",
       "\\item 84\n",
       "\\item 124\n",
       "\\item 92\n",
       "\\item 30\n",
       "\\item 148\n",
       "\\item 49\n",
       "\\item 21\n",
       "\\item 137\n",
       "\\end{enumerate*}\n"
      ],
      "text/markdown": [
       "1. 85\n",
       "2. 120\n",
       "3. 27\n",
       "4. 169\n",
       "5. 8\n",
       "6. 104\n",
       "7. 79\n",
       "8. 19\n",
       "9. 84\n",
       "10. 124\n",
       "11. 92\n",
       "12. 30\n",
       "13. 148\n",
       "14. 49\n",
       "15. 21\n",
       "16. 137\n",
       "\n",
       "\n"
      ],
      "text/plain": [
       " [1]  85 120  27 169   8 104  79  19  84 124  92  30 148  49  21 137"
      ]
     },
     "metadata": {},
     "output_type": "display_data"
    }
   ],
   "source": [
    "sample(200,16)"
   ]
  },
  {
   "cell_type": "code",
   "execution_count": 22,
   "metadata": {},
   "outputs": [],
   "source": [
    "for (i in 4:12) {\n",
    "  n.test <- i*i #this is a way to get 16, 25, 36 etc\n",
    "  samp.ind <- sample(n, n.test) #this is saying out of the range 1-200, sample n test items\n",
    "  \n",
    "  samp.n[i-3] <- n.test # the -3 just adjusts it so i works\n",
    "  samp.Means[i-3] <- mean(Davis$weight[samp.ind]) #this takes the mean at that point\n",
    "  samp.SE[i-3] <- sd(Davis$weight[samp.ind])/sqrt(n.test) #this finds the standard error at that point\n",
    "  samp.SE.All[i-3] <- weight.sd/sqrt(n.test) #this is the same, but with standard deviation taken from the whole data set\n",
    "}"
   ]
  },
  {
   "cell_type": "code",
   "execution_count": 23,
   "metadata": {},
   "outputs": [
    {
     "data": {
      "image/png": "[encoded data removed]",
      "text/plain": [
       "plot without title"
      ]
     },
     "metadata": {},
     "output_type": "display_data"
    }
   ],
   "source": [
    "plot(samp.n, samp.SE)\n",
    "lines(samp.n, samp.SE.All)\n"
   ]
  },
  {
   "cell_type": "markdown",
   "metadata": {},
   "source": [
    "### Question 6, rewritten"
   ]
  },
  {
   "cell_type": "code",
   "execution_count": 33,
   "metadata": {
    "collapsed": true
   },
   "outputs": [],
   "source": [
    "sample_means = 0:9\n",
    "sample_n = c(6,25,36,42,64,81,100,144,169)\n",
    "sample_SE = 0:9\n",
    "sample_SE_allSD = 0:9\n",
    "weight_sd = sd(Davis$weight)"
   ]
  },
  {
   "cell_type": "code",
   "execution_count": 36,
   "metadata": {},
   "outputs": [],
   "source": [
    "for(i in 1:length(sample_n)){\n",
    "    temp_sample = sample(Davis$weight, sample_n[i])\n",
    "    \n",
    "    sample_means[i] = mean(temp_sample)\n",
    "    sample_SE[i] = sd(temp_sample)/sqrt(sample_n[i])\n",
    "    sample_SE_allSD[i] = weight_sd/sqrt(sample_n[i])\n",
    "}"
   ]
  },
  {
   "cell_type": "code",
   "execution_count": 39,
   "metadata": {},
   "outputs": [
    {
     "data": {
      "image/png": "[encoded data removed]",
      "text/plain": [
       "plot without title"
      ]
     },
     "metadata": {},
     "output_type": "display_data"
    }
   ],
   "source": [
    "plot(sample_n, sample_SE)\n",
    "lines(sample_n, sample_SE_allSD)"
   ]
  }
 ],
 "metadata": {
  "anaconda-cloud": {},
  "kernelspec": {
   "display_name": "R",
   "language": "R",
   "name": "ir"
  },
  "language_info": {
   "codemirror_mode": "r",
   "file_extension": ".r",
   "mimetype": "text/x-r-source",
   "name": "R",
   "pygments_lexer": "r",
   "version": "3.4.2"
  }
 },
 "nbformat": 4,
 "nbformat_minor": 1
}
