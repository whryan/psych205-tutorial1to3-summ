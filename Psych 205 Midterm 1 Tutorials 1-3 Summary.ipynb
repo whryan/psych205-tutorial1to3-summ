{
 "cells": [
  {
   "cell_type": "markdown",
   "metadata": {},
   "source": [
    "This notebook contains completed versions of Tutorials 1-3 of Psych 205. I put them into a Jupyter notebook under the theory that this would make them easier to reference - I'm not sure if this is actually the case. "
   ]
  },
  {
   "cell_type": "markdown",
   "metadata": {},
   "source": [
    "#### Install required packages"
   ]
  },
  {
   "cell_type": "code",
   "execution_count": 251,
   "metadata": {
    "scrolled": true
   },
   "outputs": [
    {
     "name": "stderr",
     "output_type": "stream",
     "text": [
      "Warning message:\n",
      "\"package 'car' is in use and will not be installed\"Warning message:\n",
      "\"package 'Hmisc' is in use and will not be installed\"Warning message:\n",
      "\"package 'effects' is in use and will not be installed\""
     ]
    }
   ],
   "source": [
    "install.packages(\"car\", repos='http://cran.us.r-project.org')\n",
    "install.packages(\"Hmisc\", repos='http://cran.us.r-project.org')\n",
    "install.packages(\"effects\", repos='http://cran.us.r-project.org')\n",
    "\n",
    "require(car) #tutorial 1/2\n",
    "require(Hmisc) #because I like it\n",
    "#for tutorial 3\n",
    "require(effects) \n",
    "require(splines)"
   ]
  },
  {
   "cell_type": "code",
   "execution_count": 252,
   "metadata": {
    "collapsed": true
   },
   "outputs": [],
   "source": [
    "#Fix one line\n",
    "Davis$height[12] = 166\n",
    "Davis$weight[12] = 57"
   ]
  },
  {
   "cell_type": "markdown",
   "metadata": {},
   "source": [
    "### Looking at data"
   ]
  },
  {
   "cell_type": "code",
   "execution_count": 253,
   "metadata": {
    "scrolled": true
   },
   "outputs": [
    {
     "data": {
      "text/html": [
       "<table>\n",
       "<thead><tr><th scope=col>sex</th><th scope=col>weight</th><th scope=col>height</th><th scope=col>repwt</th><th scope=col>repht</th></tr></thead>\n",
       "<tbody>\n",
       "\t<tr><td>M  </td><td>77 </td><td>182</td><td>77 </td><td>180</td></tr>\n",
       "\t<tr><td>F  </td><td>58 </td><td>161</td><td>51 </td><td>159</td></tr>\n",
       "\t<tr><td>F  </td><td>53 </td><td>161</td><td>54 </td><td>158</td></tr>\n",
       "\t<tr><td>M  </td><td>68 </td><td>177</td><td>70 </td><td>175</td></tr>\n",
       "\t<tr><td>F  </td><td>59 </td><td>157</td><td>59 </td><td>155</td></tr>\n",
       "\t<tr><td>M  </td><td>76 </td><td>170</td><td>76 </td><td>165</td></tr>\n",
       "</tbody>\n",
       "</table>\n"
      ],
      "text/latex": [
       "\\begin{tabular}{r|lllll}\n",
       " sex & weight & height & repwt & repht\\\\\n",
       "\\hline\n",
       "\t M   & 77  & 182 & 77  & 180\\\\\n",
       "\t F   & 58  & 161 & 51  & 159\\\\\n",
       "\t F   & 53  & 161 & 54  & 158\\\\\n",
       "\t M   & 68  & 177 & 70  & 175\\\\\n",
       "\t F   & 59  & 157 & 59  & 155\\\\\n",
       "\t M   & 76  & 170 & 76  & 165\\\\\n",
       "\\end{tabular}\n"
      ],
      "text/markdown": [
       "\n",
       "sex | weight | height | repwt | repht | \n",
       "|---|---|---|---|---|---|\n",
       "| M   | 77  | 182 | 77  | 180 | \n",
       "| F   | 58  | 161 | 51  | 159 | \n",
       "| F   | 53  | 161 | 54  | 158 | \n",
       "| M   | 68  | 177 | 70  | 175 | \n",
       "| F   | 59  | 157 | 59  | 155 | \n",
       "| M   | 76  | 170 | 76  | 165 | \n",
       "\n",
       "\n"
      ],
      "text/plain": [
       "  sex weight height repwt repht\n",
       "1 M   77     182    77    180  \n",
       "2 F   58     161    51    159  \n",
       "3 F   53     161    54    158  \n",
       "4 M   68     177    70    175  \n",
       "5 F   59     157    59    155  \n",
       "6 M   76     170    76    165  "
      ]
     },
     "metadata": {},
     "output_type": "display_data"
    },
    {
     "data": {
      "text/html": [
       "<table>\n",
       "<thead><tr><th></th><th scope=col>sex</th><th scope=col>weight</th><th scope=col>height</th><th scope=col>repwt</th><th scope=col>repht</th></tr></thead>\n",
       "<tbody>\n",
       "\t<tr><th scope=row>195</th><td>F  </td><td>62 </td><td>164</td><td>61 </td><td>161</td></tr>\n",
       "\t<tr><th scope=row>196</th><td>M  </td><td>74 </td><td>175</td><td>71 </td><td>175</td></tr>\n",
       "\t<tr><th scope=row>197</th><td>M  </td><td>83 </td><td>180</td><td>80 </td><td>180</td></tr>\n",
       "\t<tr><th scope=row>198</th><td>M  </td><td>81 </td><td>175</td><td>NA </td><td> NA</td></tr>\n",
       "\t<tr><th scope=row>199</th><td>M  </td><td>90 </td><td>181</td><td>91 </td><td>178</td></tr>\n",
       "\t<tr><th scope=row>200</th><td>M  </td><td>79 </td><td>177</td><td>81 </td><td>178</td></tr>\n",
       "</tbody>\n",
       "</table>\n"
      ],
      "text/latex": [
       "\\begin{tabular}{r|lllll}\n",
       "  & sex & weight & height & repwt & repht\\\\\n",
       "\\hline\n",
       "\t195 & F   & 62  & 164 & 61  & 161\\\\\n",
       "\t196 & M   & 74  & 175 & 71  & 175\\\\\n",
       "\t197 & M   & 83  & 180 & 80  & 180\\\\\n",
       "\t198 & M   & 81  & 175 & NA  &  NA\\\\\n",
       "\t199 & M   & 90  & 181 & 91  & 178\\\\\n",
       "\t200 & M   & 79  & 177 & 81  & 178\\\\\n",
       "\\end{tabular}\n"
      ],
      "text/markdown": [
       "\n",
       "| <!--/--> | sex | weight | height | repwt | repht | \n",
       "|---|---|---|---|---|---|\n",
       "| 195 | F   | 62  | 164 | 61  | 161 | \n",
       "| 196 | M   | 74  | 175 | 71  | 175 | \n",
       "| 197 | M   | 83  | 180 | 80  | 180 | \n",
       "| 198 | M   | 81  | 175 | NA  |  NA | \n",
       "| 199 | M   | 90  | 181 | 91  | 178 | \n",
       "| 200 | M   | 79  | 177 | 81  | 178 | \n",
       "\n",
       "\n"
      ],
      "text/plain": [
       "    sex weight height repwt repht\n",
       "195 F   62     164    61    161  \n",
       "196 M   74     175    71    175  \n",
       "197 M   83     180    80    180  \n",
       "198 M   81     175    NA     NA  \n",
       "199 M   90     181    91    178  \n",
       "200 M   79     177    81    178  "
      ]
     },
     "metadata": {},
     "output_type": "display_data"
    },
    {
     "data": {
      "text/plain": [
       "Davis \n",
       "\n",
       " 5  Variables      200  Observations\n",
       "--------------------------------------------------------------------------------\n",
       "sex \n",
       "       n  missing distinct \n",
       "     200        0        2 \n",
       "                    \n",
       "Value         F    M\n",
       "Frequency   112   88\n",
       "Proportion 0.56 0.44\n",
       "--------------------------------------------------------------------------------\n",
       "weight \n",
       "       n  missing distinct     Info     Mean      Gmd      .05      .10 \n",
       "     200        0       53    0.999    65.25    14.66    48.95    51.00 \n",
       "     .25      .50      .75      .90      .95 \n",
       "   55.00    63.00    73.25    83.10    89.05 \n",
       "\n",
       "lowest :  39  43  44  45  47, highest:  97 101 102 103 119\n",
       "--------------------------------------------------------------------------------\n",
       "height \n",
       "       n  missing distinct     Info     Mean      Gmd      .05      .10 \n",
       "     200        0       42    0.999    170.6    10.15    157.0    160.0 \n",
       "     .25      .50      .75      .90      .95 \n",
       "   164.0    169.5    177.2    183.0    185.0 \n",
       "\n",
       "lowest : 148 150 152 153 154, highest: 187 188 189 191 197\n",
       "--------------------------------------------------------------------------------\n",
       "repwt \n",
       "       n  missing distinct     Info     Mean      Gmd      .05      .10 \n",
       "     183       17       53    0.999    65.62    15.04     49.1     51.0 \n",
       "     .25      .50      .75      .90      .95 \n",
       "    55.0     63.0     73.5     84.8     91.0 \n",
       "\n",
       "lowest :  41  44  45  47  49, highest:  98 100 101 107 124\n",
       "--------------------------------------------------------------------------------\n",
       "repht \n",
       "       n  missing distinct     Info     Mean      Gmd      .05      .10 \n",
       "     183       17       32    0.995    168.5    10.75    155.0    158.0 \n",
       "     .25      .50      .75      .90      .95 \n",
       "   160.5    168.0    175.0    181.8    185.0 \n",
       "\n",
       "lowest : 148 150 152 153 154, highest: 182 183 185 188 200\n",
       "--------------------------------------------------------------------------------"
      ]
     },
     "metadata": {},
     "output_type": "display_data"
    },
    {
     "name": "stdout",
     "output_type": "stream",
     "text": [
      "'data.frame':\t200 obs. of  5 variables:\n",
      " $ sex   : Factor w/ 2 levels \"F\",\"M\": 2 1 1 2 1 2 2 2 2 2 ...\n",
      " $ weight: num  77 58 53 68 59 76 76 69 71 65 ...\n",
      " $ height: num  182 161 161 177 157 170 167 186 178 171 ...\n",
      " $ repwt : int  77 51 54 70 59 76 77 73 71 64 ...\n",
      " $ repht : int  180 159 158 175 155 165 165 180 175 170 ...\n"
     ]
    },
    {
     "data": {
      "text/html": [
       "<ol class=list-inline>\n",
       "\t<li>'sex'</li>\n",
       "\t<li>'weight'</li>\n",
       "\t<li>'height'</li>\n",
       "\t<li>'repwt'</li>\n",
       "\t<li>'repht'</li>\n",
       "</ol>\n"
      ],
      "text/latex": [
       "\\begin{enumerate*}\n",
       "\\item 'sex'\n",
       "\\item 'weight'\n",
       "\\item 'height'\n",
       "\\item 'repwt'\n",
       "\\item 'repht'\n",
       "\\end{enumerate*}\n"
      ],
      "text/markdown": [
       "1. 'sex'\n",
       "2. 'weight'\n",
       "3. 'height'\n",
       "4. 'repwt'\n",
       "5. 'repht'\n",
       "\n",
       "\n"
      ],
      "text/plain": [
       "[1] \"sex\"    \"weight\" \"height\" \"repwt\"  \"repht\" "
      ]
     },
     "metadata": {},
     "output_type": "display_data"
    },
    {
     "data": {
      "text/plain": [
       " sex         weight           height          repwt            repht      \n",
       " F:112   Min.   : 39.00   Min.   :148.0   Min.   : 41.00   Min.   :148.0  \n",
       " M: 88   1st Qu.: 55.00   1st Qu.:164.0   1st Qu.: 55.00   1st Qu.:160.5  \n",
       "         Median : 63.00   Median :169.5   Median : 63.00   Median :168.0  \n",
       "         Mean   : 65.25   Mean   :170.6   Mean   : 65.62   Mean   :168.5  \n",
       "         3rd Qu.: 73.25   3rd Qu.:177.2   3rd Qu.: 73.50   3rd Qu.:175.0  \n",
       "         Max.   :119.00   Max.   :197.0   Max.   :124.00   Max.   :200.0  \n",
       "                                          NA's   :17       NA's   :17     "
      ]
     },
     "metadata": {},
     "output_type": "display_data"
    },
    {
     "data": {
      "text/plain": [
       "   Min. 1st Qu.  Median    Mean 3rd Qu.    Max. \n",
       "  39.00   55.00   63.00   65.25   73.25  119.00 "
      ]
     },
     "metadata": {},
     "output_type": "display_data"
    },
    {
     "data": {
      "text/plain": [
       "\n",
       "  F   M \n",
       "112  88 "
      ]
     },
     "metadata": {},
     "output_type": "display_data"
    },
    {
     "data": {
      "text/plain": [
       "\n",
       "   F    M \n",
       "0.56 0.44 "
      ]
     },
     "metadata": {},
     "output_type": "display_data"
    }
   ],
   "source": [
    "# View(Davis) #Open Davis in interactive viewer (doesn't work in Jupyter notebook)\n",
    "head(Davis) #view first 10 rows\n",
    "tail(Davis) #view last 10 rows\n",
    "describe(Davis) #good summary of all variables and missings, from Hmisc\n",
    "str(Davis) #see structure of df\n",
    "names(Davis) #get column names\n",
    "summary(Davis) #overall summary\n",
    "summary(Davis$weight) #summary for one variable\n",
    "table(Davis$sex) #make frequency table of a variable\n",
    "prop.table(table(Davis$sex)) #Make proportion table of a variable"
   ]
  },
  {
   "cell_type": "markdown",
   "metadata": {},
   "source": [
    "### Data cleaning and manipulation"
   ]
  },
  {
   "cell_type": "code",
   "execution_count": 254,
   "metadata": {},
   "outputs": [],
   "source": [
    "males = Davis[Davis$sex==\"M\",] # Subset to all rows where column has a given value\n",
    "\n",
    "vars = c(\"sex\", \"weight\", \"height\")\n",
    "small1 = Davis[vars] #Subset to only those columns\n",
    "\n",
    "dropvars = names(Davis) %in% c(\"sex\", \"weight\", \"height\")\n",
    "small2 = Davis[!dropvars] #Subset to all BUT those columns"
   ]
  },
  {
   "cell_type": "markdown",
   "metadata": {},
   "source": [
    "### Plotting"
   ]
  },
  {
   "cell_type": "code",
   "execution_count": 255,
   "metadata": {},
   "outputs": [
    {
     "data": {
      "image/png": "[encoded data removed]",
      "text/plain": [
       "plot without title"
      ]
     },
     "metadata": {},
     "output_type": "display_data"
    },
    {
     "data": {
      "image/png": "[encoded data removed]",
      "text/plain": [
       "plot without title"
      ]
     },
     "metadata": {},
     "output_type": "display_data"
    },
    {
     "data": {
      "image/png": "[encoded data removed]",
      "text/plain": [
       "plot without title"
      ]
     },
     "metadata": {},
     "output_type": "display_data"
    }
   ],
   "source": [
    "plot(Davis$height, Davis$weight) #these all give the same scatterplot with weight on the y axis and height on the x axis\n",
    "plot(Davis$weight ~ Davis$height)\n",
    "plot(x=Davis$height, y=Davis$weight)"
   ]
  },
  {
   "cell_type": "markdown",
   "metadata": {},
   "source": [
    "# Tutorial 1"
   ]
  },
  {
   "cell_type": "markdown",
   "metadata": {},
   "source": [
    "### Exercise 1: Sample means from normal distribution, graph\n",
    "#### Sample from the normal distribution, get the mean"
   ]
  },
  {
   "cell_type": "code",
   "execution_count": 256,
   "metadata": {
    "collapsed": true
   },
   "outputs": [],
   "source": [
    "xSamp <- rnorm(100,mean=100, sd=10)\n",
    "meanSamp <- mean(xSamp)"
   ]
  },
  {
   "cell_type": "markdown",
   "metadata": {},
   "source": [
    "#### Create a histogram of values, draw mean as a line on the plot"
   ]
  },
  {
   "cell_type": "code",
   "execution_count": 257,
   "metadata": {
    "scrolled": true
   },
   "outputs": [
    {
     "data": {
      "image/png": "[encoded data removed]",
      "text/plain": [
       "Plot with title \"Histogram of xSamp\""
      ]
     },
     "metadata": {},
     "output_type": "display_data"
    }
   ],
   "source": [
    "hist(xSamp)\n",
    "abline(v=mean(xSamp), col=\"blue\", lty=2)"
   ]
  },
  {
   "cell_type": "markdown",
   "metadata": {},
   "source": [
    "### Exercise 2: Graph distribution of sample means\n",
    "#### Distributions of sample means -- draw 100, graph, graph standard deviation"
   ]
  },
  {
   "cell_type": "code",
   "execution_count": 258,
   "metadata": {
    "collapsed": true
   },
   "outputs": [],
   "source": [
    "means = 1:100\n",
    "\n",
    "for (i in 1:100){\n",
    "  means[i] = mean(rnorm(100, mean=100, sd=10))\n",
    "}"
   ]
  },
  {
   "cell_type": "markdown",
   "metadata": {},
   "source": [
    "### Exercise 4: Compare sd of sample to theoretical sd\n",
    "#### Get standard deviation of sample, and theoretical standard deviation"
   ]
  },
  {
   "cell_type": "code",
   "execution_count": 259,
   "metadata": {},
   "outputs": [
    {
     "data": {
      "text/html": [
       "0.980651051946889"
      ],
      "text/latex": [
       "0.980651051946889"
      ],
      "text/markdown": [
       "0.980651051946889"
      ],
      "text/plain": [
       "[1] 0.9806511"
      ]
     },
     "metadata": {},
     "output_type": "display_data"
    },
    {
     "name": "stdout",
     "output_type": "stream",
     "text": [
      "[1] \"theoretical value:\"\n"
     ]
    },
    {
     "data": {
      "text/html": [
       "1"
      ],
      "text/latex": [
       "1"
      ],
      "text/markdown": [
       "1"
      ],
      "text/plain": [
       "[1] 1"
      ]
     },
     "metadata": {},
     "output_type": "display_data"
    }
   ],
   "source": [
    "sd(means)\n",
    "\n",
    "print(\"theoretical value:\")\n",
    "10/sqrt(100) #standard deviation / sqrt(n samples)"
   ]
  },
  {
   "cell_type": "markdown",
   "metadata": {},
   "source": [
    "### Exercise 3/5: Creating histograms of sample means with mean abline, SEM arrow\n",
    "#### Create a histogram of sampled means, with a abline at the mean, and an arrow showing the SEM of the means"
   ]
  },
  {
   "cell_type": "code",
   "execution_count": 260,
   "metadata": {
    "scrolled": true
   },
   "outputs": [
    {
     "data": {
      "image/png": "[encoded data removed]",
      "text/plain": [
       "Plot with title \"Histogram of means\""
      ]
     },
     "metadata": {},
     "output_type": "display_data"
    }
   ],
   "source": [
    "hist(means)\n",
    "abline(v=mean(means), col=\"blue\", lty=2)\n",
    "\n",
    "sem = sd(means)/sqrt(length(means))\n",
    "arrows((-sem+mean(means)),15,(sem+mean(means)),15, length =.07, code=3, col=\"red\") #Creating an arrow"
   ]
  },
  {
   "cell_type": "markdown",
   "metadata": {},
   "source": [
    "### Exercise 6/7: Creating multiple samples from normal with for loop and sapply\n",
    "#### Create array with many samples from the normal distribution, save sample mean in an array\n",
    "Using for loops"
   ]
  },
  {
   "cell_type": "code",
   "execution_count": 261,
   "metadata": {
    "collapsed": true
   },
   "outputs": [],
   "source": [
    "set.seed(1) #needs to be done for consistency w. conf interval calculation\n",
    "samples = c(10,20,50,100,200,500,1000)\n",
    "loops = 1:length(samples)\n",
    "new_means = vector('numeric', length(samples))\n",
    "  \n",
    "for (i in loops) {\n",
    "  new_means[i] = mean(rnorm(samples[i],mean=100,sd=10))\n",
    "}"
   ]
  },
  {
   "cell_type": "markdown",
   "metadata": {},
   "source": [
    "Using sapply syntax"
   ]
  },
  {
   "cell_type": "code",
   "execution_count": 262,
   "metadata": {
    "collapsed": true
   },
   "outputs": [],
   "source": [
    "set.seed(1) #needs to be done for consistency w. conf interval calculation\n",
    "sampMeans <- rep(0,length(samples))\n",
    "sampMeans <- sapply( samples, function(x) mean(rnorm(x,mean=100,sd=10)) )"
   ]
  },
  {
   "cell_type": "markdown",
   "metadata": {},
   "source": [
    "### Exercise 8: Plotting sample means, adding confidence interval lines/\n",
    "#### Plot the sample mean as a function of sample size. \n",
    "#### Add three curves for theoretical mean (solid line), range of 95% confidence (dotted lines)"
   ]
  },
  {
   "cell_type": "code",
   "execution_count": 263,
   "metadata": {
    "collapsed": true
   },
   "outputs": [],
   "source": [
    "#function to find confidence intervals for a value\n",
    "set.seed(1) #needs to be done for consistency w. conf interval calculation\n",
    "find_conf_int = function(sample, mean=100, sd=100){\n",
    "  means = (rnorm(sample,mean=100,sd=10))\n",
    "  conf_int = sd(means)/sqrt(length(means))*1.96 #formula for confidence interval, follows from normal distribution\n",
    "  return(conf_int)\n",
    "}\n",
    "\n",
    "conf_ints = 1:length(samples)\n",
    "for(i in 1:length(samples)){\n",
    "  conf_ints[i] = find_conf_int(samples[i])\n",
    "}"
   ]
  },
  {
   "cell_type": "code",
   "execution_count": 264,
   "metadata": {
    "scrolled": true
   },
   "outputs": [
    {
     "data": {
      "image/png": "[encoded data removed]",
      "text/plain": [
       "plot without title"
      ]
     },
     "metadata": {},
     "output_type": "display_data"
    }
   ],
   "source": [
    "plot(samples, sampMeans, ylim=c(90,110))\n",
    "abline(h=100, col=\"blue\", lty=1)\n",
    "# plot the confidence intervals\n",
    "lines(samples, sampMeans+conf_ints, col=\"blue\", lty=3)\n",
    "lines(samples, sampMeans-conf_ints, col=\"blue\", lty=3)"
   ]
  },
  {
   "cell_type": "markdown",
   "metadata": {},
   "source": [
    "# Tutorial 2\n",
    "This is all the major things done in tutorial 2"
   ]
  },
  {
   "cell_type": "code",
   "execution_count": 265,
   "metadata": {
    "collapsed": true
   },
   "outputs": [],
   "source": [
    "options(show.signif.stars=FALSE) #get rid of significance stars\n",
    "require(car) #should already be loaded"
   ]
  },
  {
   "cell_type": "markdown",
   "metadata": {},
   "source": [
    "#### Find sample size"
   ]
  },
  {
   "cell_type": "code",
   "execution_count": 266,
   "metadata": {},
   "outputs": [
    {
     "data": {
      "text/html": [
       "200"
      ],
      "text/latex": [
       "200"
      ],
      "text/markdown": [
       "200"
      ],
      "text/plain": [
       "[1] 200"
      ]
     },
     "metadata": {},
     "output_type": "display_data"
    }
   ],
   "source": [
    "nrow(Davis)"
   ]
  },
  {
   "cell_type": "markdown",
   "metadata": {},
   "source": [
    "#### Get scatterplot of data"
   ]
  },
  {
   "cell_type": "code",
   "execution_count": 267,
   "metadata": {
    "scrolled": true
   },
   "outputs": [
    {
     "data": {
      "text/html": [
       "<strong>21:</strong> 21"
      ],
      "text/latex": [
       "\\textbf{21:} 21"
      ],
      "text/markdown": [
       "**21:** 21"
      ],
      "text/plain": [
       "21 \n",
       "21 "
      ]
     },
     "metadata": {},
     "output_type": "display_data"
    },
    {
     "data": {
      "image/png": "[encoded data removed]",
      "text/plain": [
       "plot without title"
      ]
     },
     "metadata": {},
     "output_type": "display_data"
    }
   ],
   "source": [
    "scatterplot(weight ~ repwt, data=Davis, smooth=FALSE, id.n=1)"
   ]
  },
  {
   "cell_type": "markdown",
   "metadata": {},
   "source": [
    "#### Perform bivariate regression"
   ]
  },
  {
   "cell_type": "code",
   "execution_count": 268,
   "metadata": {
    "scrolled": false
   },
   "outputs": [
    {
     "data": {
      "text/plain": [
       "\n",
       "Call:\n",
       "lm(formula = weight ~ repwt, data = Davis)\n",
       "\n",
       "Residuals:\n",
       "    Min      1Q  Median      3Q     Max \n",
       "-7.5270 -1.0942 -0.1151  1.1133  6.3834 \n",
       "\n",
       "Coefficients:\n",
       "            Estimate Std. Error t value Pr(>|t|)\n",
       "(Intercept)   2.7480     0.8109   3.389 0.000862\n",
       "repwt         0.9582     0.0121  79.222  < 2e-16\n",
       "\n",
       "Residual standard error: 2.248 on 181 degrees of freedom\n",
       "  (17 observations deleted due to missingness)\n",
       "Multiple R-squared:  0.972,\tAdjusted R-squared:  0.9718 \n",
       "F-statistic:  6276 on 1 and 181 DF,  p-value: < 2.2e-16\n"
      ]
     },
     "metadata": {},
     "output_type": "display_data"
    }
   ],
   "source": [
    "davis.mod <- lm(weight ~ repwt, data=Davis)\n",
    "summary(davis.mod)"
   ]
  },
  {
   "cell_type": "markdown",
   "metadata": {},
   "source": [
    "### Exercise 1: Get coefficients of bivariate model\n",
    "#### Get coefficients for bivariate regression model using equations for bivariate regression"
   ]
  },
  {
   "cell_type": "markdown",
   "metadata": {},
   "source": [
    "Get rid of NA's"
   ]
  },
  {
   "cell_type": "code",
   "execution_count": 269,
   "metadata": {
    "collapsed": true
   },
   "outputs": [],
   "source": [
    "idxfull = complete.cases(Davis[,c(\"weight\",\"repwt\")]) #get only indices with no missing values\n",
    "Davis_nona = Davis[idxfull,] #subset to only non-missing values"
   ]
  },
  {
   "cell_type": "markdown",
   "metadata": {},
   "source": [
    "Get coefficients"
   ]
  },
  {
   "cell_type": "code",
   "execution_count": 270,
   "metadata": {
    "collapsed": true
   },
   "outputs": [],
   "source": [
    "x = Davis_nona$repwt #get y values\n",
    "y = Davis_nona$weight #get x values\n",
    "\n",
    "x_bar = mean(x) #get means\n",
    "y_bar = mean(y)\n",
    "\n",
    "x_dev = x - x_bar #get deivations from mean aka residuals\n",
    "y_dev = y - y_bar\n",
    "\n",
    "SXY = sum(x_dev*y_dev) #get sum of x*y resids\n",
    "SXX = sum(x_dev*x_dev) #get sum of x*x resids\n",
    "\n",
    "b = SXY/SXX #coefficient = sum of x*y/sum of x*x"
   ]
  },
  {
   "cell_type": "markdown",
   "metadata": {},
   "source": [
    "Get confidence intervals on these parameters"
   ]
  },
  {
   "cell_type": "code",
   "execution_count": 271,
   "metadata": {},
   "outputs": [
    {
     "data": {
      "text/html": [
       "<table>\n",
       "<thead><tr><th></th><th scope=col>2.5 %</th><th scope=col>97.5 %</th></tr></thead>\n",
       "<tbody>\n",
       "\t<tr><th scope=row>(Intercept)</th><td>1.1478950</td><td>4.3480725</td></tr>\n",
       "\t<tr><th scope=row>repwt</th><td>0.9343423</td><td>0.9820736</td></tr>\n",
       "</tbody>\n",
       "</table>\n"
      ],
      "text/latex": [
       "\\begin{tabular}{r|ll}\n",
       "  & 2.5 \\% & 97.5 \\%\\\\\n",
       "\\hline\n",
       "\t(Intercept) & 1.1478950 & 4.3480725\\\\\n",
       "\trepwt & 0.9343423 & 0.9820736\\\\\n",
       "\\end{tabular}\n"
      ],
      "text/markdown": [
       "\n",
       "| <!--/--> | 2.5 % | 97.5 % | \n",
       "|---|---|\n",
       "| (Intercept) | 1.1478950 | 4.3480725 | \n",
       "| repwt | 0.9343423 | 0.9820736 | \n",
       "\n",
       "\n"
      ],
      "text/plain": [
       "            2.5 %     97.5 %   \n",
       "(Intercept) 1.1478950 4.3480725\n",
       "repwt       0.9343423 0.9820736"
      ]
     },
     "metadata": {},
     "output_type": "display_data"
    }
   ],
   "source": [
    "confint(davis.mod)"
   ]
  },
  {
   "cell_type": "markdown",
   "metadata": {},
   "source": [
    "#### Update model to delete outlier"
   ]
  },
  {
   "cell_type": "code",
   "execution_count": 272,
   "metadata": {},
   "outputs": [
    {
     "data": {
      "text/plain": [
       "\n",
       "Call:\n",
       "lm(formula = weight ~ repwt, data = Davis, subset = -12)\n",
       "\n",
       "Residuals:\n",
       "    Min      1Q  Median      3Q     Max \n",
       "-7.5296 -1.1010 -0.1322  1.1287  6.3891 \n",
       "\n",
       "Coefficients:\n",
       "            Estimate Std. Error t value Pr(>|t|)\n",
       "(Intercept)  2.73380    0.81479   3.355 0.000967\n",
       "repwt        0.95837    0.01214  78.926  < 2e-16\n",
       "\n",
       "Residual standard error: 2.254 on 180 degrees of freedom\n",
       "  (17 observations deleted due to missingness)\n",
       "Multiple R-squared:  0.9719,\tAdjusted R-squared:  0.9718 \n",
       "F-statistic:  6229 on 1 and 180 DF,  p-value: < 2.2e-16\n"
      ]
     },
     "metadata": {},
     "output_type": "display_data"
    }
   ],
   "source": [
    "davis.mod.2 <- update(davis.mod, subset=-12)\n",
    "summary(davis.mod.2)"
   ]
  },
  {
   "cell_type": "markdown",
   "metadata": {},
   "source": [
    "#### compare coefficients of two models"
   ]
  },
  {
   "cell_type": "code",
   "execution_count": 273,
   "metadata": {},
   "outputs": [
    {
     "data": {
      "text/html": [
       "<table>\n",
       "<thead><tr><th></th><th scope=col>Original</th><th scope=col>NoCase12</th></tr></thead>\n",
       "<tbody>\n",
       "\t<tr><th scope=row>(Intercept)</th><td>2.7479837</td><td>2.7338020</td></tr>\n",
       "\t<tr><th scope=row>repwt</th><td>0.9582079</td><td>0.9583743</td></tr>\n",
       "</tbody>\n",
       "</table>\n"
      ],
      "text/latex": [
       "\\begin{tabular}{r|ll}\n",
       "  & Original & NoCase12\\\\\n",
       "\\hline\n",
       "\t(Intercept) & 2.7479837 & 2.7338020\\\\\n",
       "\trepwt & 0.9582079 & 0.9583743\\\\\n",
       "\\end{tabular}\n"
      ],
      "text/markdown": [
       "\n",
       "| <!--/--> | Original | NoCase12 | \n",
       "|---|---|\n",
       "| (Intercept) | 2.7479837 | 2.7338020 | \n",
       "| repwt | 0.9582079 | 0.9583743 | \n",
       "\n",
       "\n"
      ],
      "text/plain": [
       "            Original  NoCase12 \n",
       "(Intercept) 2.7479837 2.7338020\n",
       "repwt       0.9582079 0.9583743"
      ]
     },
     "metadata": {},
     "output_type": "display_data"
    }
   ],
   "source": [
    "cbind(Original=coef(davis.mod), NoCase12=coef(davis.mod.2))\n"
   ]
  },
  {
   "cell_type": "markdown",
   "metadata": {},
   "source": [
    "### Exercise 2: Do multivariate regression, compare coefficients to bivariate"
   ]
  },
  {
   "cell_type": "markdown",
   "metadata": {},
   "source": [
    "#### Do multivariate regression"
   ]
  },
  {
   "cell_type": "markdown",
   "metadata": {},
   "source": [
    "Investigate dataset"
   ]
  },
  {
   "cell_type": "code",
   "execution_count": 274,
   "metadata": {},
   "outputs": [
    {
     "data": {
      "text/html": [
       "<table>\n",
       "<thead><tr><th></th><th scope=col>education</th><th scope=col>income</th><th scope=col>women</th><th scope=col>prestige</th><th scope=col>census</th><th scope=col>type</th></tr></thead>\n",
       "<tbody>\n",
       "\t<tr><th scope=row>gov.administrators</th><td>13.11</td><td>12351</td><td>11.16</td><td>68.8 </td><td>1113 </td><td>prof </td></tr>\n",
       "\t<tr><th scope=row>general.managers</th><td>12.26</td><td>25879</td><td> 4.02</td><td>69.1 </td><td>1130 </td><td>prof </td></tr>\n",
       "\t<tr><th scope=row>accountants</th><td>12.77</td><td> 9271</td><td>15.70</td><td>63.4 </td><td>1171 </td><td>prof </td></tr>\n",
       "\t<tr><th scope=row>purchasing.officers</th><td>11.42</td><td> 8865</td><td> 9.11</td><td>56.8 </td><td>1175 </td><td>prof </td></tr>\n",
       "\t<tr><th scope=row>chemists</th><td>14.62</td><td> 8403</td><td>11.68</td><td>73.5 </td><td>2111 </td><td>prof </td></tr>\n",
       "\t<tr><th scope=row>physicists</th><td>15.64</td><td>11030</td><td> 5.13</td><td>77.6 </td><td>2113 </td><td>prof </td></tr>\n",
       "</tbody>\n",
       "</table>\n"
      ],
      "text/latex": [
       "\\begin{tabular}{r|llllll}\n",
       "  & education & income & women & prestige & census & type\\\\\n",
       "\\hline\n",
       "\tgov.administrators & 13.11 & 12351 & 11.16 & 68.8  & 1113  & prof \\\\\n",
       "\tgeneral.managers & 12.26 & 25879 &  4.02 & 69.1  & 1130  & prof \\\\\n",
       "\taccountants & 12.77 &  9271 & 15.70 & 63.4  & 1171  & prof \\\\\n",
       "\tpurchasing.officers & 11.42 &  8865 &  9.11 & 56.8  & 1175  & prof \\\\\n",
       "\tchemists & 14.62 &  8403 & 11.68 & 73.5  & 2111  & prof \\\\\n",
       "\tphysicists & 15.64 & 11030 &  5.13 & 77.6  & 2113  & prof \\\\\n",
       "\\end{tabular}\n"
      ],
      "text/markdown": [
       "\n",
       "| <!--/--> | education | income | women | prestige | census | type | \n",
       "|---|---|---|---|---|---|\n",
       "| gov.administrators | 13.11 | 12351 | 11.16 | 68.8  | 1113  | prof  | \n",
       "| general.managers | 12.26 | 25879 |  4.02 | 69.1  | 1130  | prof  | \n",
       "| accountants | 12.77 |  9271 | 15.70 | 63.4  | 1171  | prof  | \n",
       "| purchasing.officers | 11.42 |  8865 |  9.11 | 56.8  | 1175  | prof  | \n",
       "| chemists | 14.62 |  8403 | 11.68 | 73.5  | 2111  | prof  | \n",
       "| physicists | 15.64 | 11030 |  5.13 | 77.6  | 2113  | prof  | \n",
       "\n",
       "\n"
      ],
      "text/plain": [
       "                    education income women prestige census type\n",
       "gov.administrators  13.11     12351  11.16 68.8     1113   prof\n",
       "general.managers    12.26     25879   4.02 69.1     1130   prof\n",
       "accountants         12.77      9271  15.70 63.4     1171   prof\n",
       "purchasing.officers 11.42      8865   9.11 56.8     1175   prof\n",
       "chemists            14.62      8403  11.68 73.5     2111   prof\n",
       "physicists          15.64     11030   5.13 77.6     2113   prof"
      ]
     },
     "metadata": {},
     "output_type": "display_data"
    },
    {
     "data": {
      "text/html": [
       "102"
      ],
      "text/latex": [
       "102"
      ],
      "text/markdown": [
       "102"
      ],
      "text/plain": [
       "[1] 102"
      ]
     },
     "metadata": {},
     "output_type": "display_data"
    }
   ],
   "source": [
    "head(Prestige)\n",
    "nrow(Prestige)"
   ]
  },
  {
   "cell_type": "markdown",
   "metadata": {},
   "source": [
    "#### Scatterplot matrix\n",
    "Look at scatterplot of data"
   ]
  },
  {
   "cell_type": "code",
   "execution_count": 275,
   "metadata": {
    "scrolled": true
   },
   "outputs": [
    {
     "data": {
      "image/png": "[encoded data removed]",
      "text/plain": [
       "plot without title"
      ]
     },
     "metadata": {},
     "output_type": "display_data"
    }
   ],
   "source": [
    "scatterplotMatrix(~prestige + income + education + women, span=0.7, data=Prestige)"
   ]
  },
  {
   "cell_type": "markdown",
   "metadata": {},
   "source": [
    "Relationship to income does not look linear -- correct for this"
   ]
  },
  {
   "cell_type": "code",
   "execution_count": 276,
   "metadata": {
    "scrolled": true
   },
   "outputs": [
    {
     "data": {
      "image/png": "[encoded data removed]",
      "text/plain": [
       "plot without title"
      ]
     },
     "metadata": {},
     "output_type": "display_data"
    }
   ],
   "source": [
    "scatterplotMatrix(~prestige + log2(income) + education + women, span=0.7, data=Prestige)"
   ]
  },
  {
   "cell_type": "markdown",
   "metadata": {},
   "source": [
    "#### Create model, get summary"
   ]
  },
  {
   "cell_type": "code",
   "execution_count": 277,
   "metadata": {},
   "outputs": [
    {
     "data": {
      "text/plain": [
       "\n",
       "Call:\n",
       "lm(formula = prestige ~ education + log2(income) + women, data = Prestige)\n",
       "\n",
       "Residuals:\n",
       "    Min      1Q  Median      3Q     Max \n",
       "-17.364  -4.429  -0.101   4.316  19.179 \n",
       "\n",
       "Coefficients:\n",
       "              Estimate Std. Error t value Pr(>|t|)\n",
       "(Intercept)  -110.9658    14.8429  -7.476 3.27e-11\n",
       "education       3.7305     0.3544  10.527  < 2e-16\n",
       "log2(income)    9.3147     1.3265   7.022 2.90e-10\n",
       "women           0.0469     0.0299   1.568     0.12\n",
       "\n",
       "Residual standard error: 7.093 on 98 degrees of freedom\n",
       "Multiple R-squared:  0.8351,\tAdjusted R-squared:   0.83 \n",
       "F-statistic: 165.4 on 3 and 98 DF,  p-value: < 2.2e-16\n"
      ]
     },
     "metadata": {},
     "output_type": "display_data"
    }
   ],
   "source": [
    "prestige.mod <- lm(prestige ~ education + log2(income) + women,\n",
    "    data=Prestige)\n",
    "    \n",
    "summary(prestige.mod)"
   ]
  },
  {
   "cell_type": "markdown",
   "metadata": {},
   "source": [
    "#### Create table comparing both coefficients"
   ]
  },
  {
   "cell_type": "code",
   "execution_count": 278,
   "metadata": {},
   "outputs": [
    {
     "data": {
      "text/html": [
       "<table>\n",
       "<thead><tr><th></th><th scope=col>education</th><th scope=col>log2(income)</th><th scope=col>women</th></tr></thead>\n",
       "<tbody>\n",
       "\t<tr><th scope=row>bivariate_coeffs</th><td>5.360878   </td><td>14.941732  </td><td>-0.06417284</td></tr>\n",
       "\t<tr><th scope=row>multivariate_coeffs</th><td>3.730508   </td><td> 9.314666  </td><td> 0.04689514</td></tr>\n",
       "</tbody>\n",
       "</table>\n"
      ],
      "text/latex": [
       "\\begin{tabular}{r|lll}\n",
       "  & education & log2(income) & women\\\\\n",
       "\\hline\n",
       "\tbivariate\\_coeffs & 5.360878    & 14.941732   & -0.06417284\\\\\n",
       "\tmultivariate\\_coeffs & 3.730508    &  9.314666   &  0.04689514\\\\\n",
       "\\end{tabular}\n"
      ],
      "text/markdown": [
       "\n",
       "| <!--/--> | education | log2(income) | women | \n",
       "|---|---|\n",
       "| bivariate_coeffs | 5.360878    | 14.941732   | -0.06417284 | \n",
       "| multivariate_coeffs | 3.730508    |  9.314666   |  0.04689514 | \n",
       "\n",
       "\n"
      ],
      "text/plain": [
       "                    education log2(income) women      \n",
       "bivariate_coeffs    5.360878  14.941732    -0.06417284\n",
       "multivariate_coeffs 3.730508   9.314666     0.04689514"
      ]
     },
     "metadata": {},
     "output_type": "display_data"
    }
   ],
   "source": [
    "#Get all bivariate coefficients\n",
    "e_c = coef(lm(prestige ~ education,data=Prestige))\n",
    "w_c = coef(lm(prestige ~ women,data=Prestige))\n",
    "i_c = coef(lm(prestige ~ log2(income),data=Prestige))\n",
    "\n",
    "#Get all multivariate coefficients\n",
    "multi_coeffs = coef(prestige.mod)[2:4]\n",
    "\n",
    "#Combine the bivariate coefficients into one table, minus intercepts\n",
    "bi_coeffs = cbind(e_c,i_c,w_c)\n",
    "bi_coeffs_only = cbind(bi_coeffs[2],bi_coeffs[4],bi_coeffs[6]) #ignoring intercepts\n",
    "\n",
    "#Create the table for comparison and name it\n",
    "coeff_table = rbind(bi_coeffs_only, multi_coeffs)\n",
    "rownames(coeff_table) = c(\"bivariate_coeffs\", \"multivariate_coeffs\")\n",
    "\n",
    "head(coeff_table)"
   ]
  },
  {
   "cell_type": "markdown",
   "metadata": {},
   "source": [
    "### Factors in R"
   ]
  },
  {
   "cell_type": "markdown",
   "metadata": {},
   "source": [
    "Investigating factors"
   ]
  },
  {
   "cell_type": "code",
   "execution_count": 279,
   "metadata": {},
   "outputs": [
    {
     "data": {
      "text/html": [
       "<ol class=list-inline>\n",
       "\t<li>prof</li>\n",
       "\t<li>prof</li>\n",
       "\t<li>prof</li>\n",
       "\t<li>prof</li>\n",
       "\t<li>prof</li>\n",
       "\t<li>prof</li>\n",
       "\t<li>prof</li>\n",
       "\t<li>prof</li>\n",
       "\t<li>prof</li>\n",
       "\t<li>prof</li>\n",
       "\t<li>prof</li>\n",
       "\t<li>prof</li>\n",
       "\t<li>prof</li>\n",
       "\t<li>prof</li>\n",
       "\t<li>prof</li>\n",
       "\t<li>prof</li>\n",
       "\t<li>prof</li>\n",
       "\t<li>prof</li>\n",
       "\t<li>prof</li>\n",
       "\t<li>prof</li>\n",
       "\t<li>prof</li>\n",
       "\t<li>prof</li>\n",
       "\t<li>prof</li>\n",
       "\t<li>prof</li>\n",
       "\t<li>prof</li>\n",
       "\t<li>prof</li>\n",
       "\t<li>prof</li>\n",
       "\t<li>bc</li>\n",
       "\t<li>prof</li>\n",
       "\t<li>prof</li>\n",
       "\t<li>wc</li>\n",
       "\t<li>prof</li>\n",
       "\t<li>wc</li>\n",
       "\t<li>&lt;NA&gt;</li>\n",
       "\t<li>wc</li>\n",
       "\t<li>wc</li>\n",
       "\t<li>wc</li>\n",
       "\t<li>wc</li>\n",
       "\t<li>wc</li>\n",
       "\t<li>wc</li>\n",
       "\t<li>wc</li>\n",
       "\t<li>wc</li>\n",
       "\t<li>wc</li>\n",
       "\t<li>wc</li>\n",
       "\t<li>wc</li>\n",
       "\t<li>wc</li>\n",
       "\t<li>wc</li>\n",
       "\t<li>wc</li>\n",
       "\t<li>wc</li>\n",
       "\t<li>wc</li>\n",
       "\t<li>wc</li>\n",
       "\t<li>wc</li>\n",
       "\t<li>&lt;NA&gt;</li>\n",
       "\t<li>bc</li>\n",
       "\t<li>wc</li>\n",
       "\t<li>wc</li>\n",
       "\t<li>wc</li>\n",
       "\t<li>bc</li>\n",
       "\t<li>bc</li>\n",
       "\t<li>bc</li>\n",
       "\t<li>bc</li>\n",
       "\t<li>bc</li>\n",
       "\t<li>&lt;NA&gt;</li>\n",
       "\t<li>bc</li>\n",
       "\t<li>bc</li>\n",
       "\t<li>bc</li>\n",
       "\t<li>&lt;NA&gt;</li>\n",
       "\t<li>bc</li>\n",
       "\t<li>bc</li>\n",
       "\t<li>bc</li>\n",
       "\t<li>bc</li>\n",
       "\t<li>bc</li>\n",
       "\t<li>bc</li>\n",
       "\t<li>bc</li>\n",
       "\t<li>bc</li>\n",
       "\t<li>bc</li>\n",
       "\t<li>bc</li>\n",
       "\t<li>bc</li>\n",
       "\t<li>bc</li>\n",
       "\t<li>bc</li>\n",
       "\t<li>bc</li>\n",
       "\t<li>bc</li>\n",
       "\t<li>bc</li>\n",
       "\t<li>bc</li>\n",
       "\t<li>bc</li>\n",
       "\t<li>bc</li>\n",
       "\t<li>bc</li>\n",
       "\t<li>bc</li>\n",
       "\t<li>bc</li>\n",
       "\t<li>bc</li>\n",
       "\t<li>bc</li>\n",
       "\t<li>bc</li>\n",
       "\t<li>bc</li>\n",
       "\t<li>bc</li>\n",
       "\t<li>bc</li>\n",
       "\t<li>prof</li>\n",
       "\t<li>bc</li>\n",
       "\t<li>bc</li>\n",
       "\t<li>bc</li>\n",
       "\t<li>bc</li>\n",
       "\t<li>bc</li>\n",
       "\t<li>bc</li>\n",
       "</ol>\n"
      ],
      "text/latex": [
       "\\begin{enumerate*}\n",
       "\\item prof\n",
       "\\item prof\n",
       "\\item prof\n",
       "\\item prof\n",
       "\\item prof\n",
       "\\item prof\n",
       "\\item prof\n",
       "\\item prof\n",
       "\\item prof\n",
       "\\item prof\n",
       "\\item prof\n",
       "\\item prof\n",
       "\\item prof\n",
       "\\item prof\n",
       "\\item prof\n",
       "\\item prof\n",
       "\\item prof\n",
       "\\item prof\n",
       "\\item prof\n",
       "\\item prof\n",
       "\\item prof\n",
       "\\item prof\n",
       "\\item prof\n",
       "\\item prof\n",
       "\\item prof\n",
       "\\item prof\n",
       "\\item prof\n",
       "\\item bc\n",
       "\\item prof\n",
       "\\item prof\n",
       "\\item wc\n",
       "\\item prof\n",
       "\\item wc\n",
       "\\item <NA>\n",
       "\\item wc\n",
       "\\item wc\n",
       "\\item wc\n",
       "\\item wc\n",
       "\\item wc\n",
       "\\item wc\n",
       "\\item wc\n",
       "\\item wc\n",
       "\\item wc\n",
       "\\item wc\n",
       "\\item wc\n",
       "\\item wc\n",
       "\\item wc\n",
       "\\item wc\n",
       "\\item wc\n",
       "\\item wc\n",
       "\\item wc\n",
       "\\item wc\n",
       "\\item <NA>\n",
       "\\item bc\n",
       "\\item wc\n",
       "\\item wc\n",
       "\\item wc\n",
       "\\item bc\n",
       "\\item bc\n",
       "\\item bc\n",
       "\\item bc\n",
       "\\item bc\n",
       "\\item <NA>\n",
       "\\item bc\n",
       "\\item bc\n",
       "\\item bc\n",
       "\\item <NA>\n",
       "\\item bc\n",
       "\\item bc\n",
       "\\item bc\n",
       "\\item bc\n",
       "\\item bc\n",
       "\\item bc\n",
       "\\item bc\n",
       "\\item bc\n",
       "\\item bc\n",
       "\\item bc\n",
       "\\item bc\n",
       "\\item bc\n",
       "\\item bc\n",
       "\\item bc\n",
       "\\item bc\n",
       "\\item bc\n",
       "\\item bc\n",
       "\\item bc\n",
       "\\item bc\n",
       "\\item bc\n",
       "\\item bc\n",
       "\\item bc\n",
       "\\item bc\n",
       "\\item bc\n",
       "\\item bc\n",
       "\\item bc\n",
       "\\item bc\n",
       "\\item bc\n",
       "\\item prof\n",
       "\\item bc\n",
       "\\item bc\n",
       "\\item bc\n",
       "\\item bc\n",
       "\\item bc\n",
       "\\item bc\n",
       "\\end{enumerate*}\n"
      ],
      "text/markdown": [
       "1. prof\n",
       "2. prof\n",
       "3. prof\n",
       "4. prof\n",
       "5. prof\n",
       "6. prof\n",
       "7. prof\n",
       "8. prof\n",
       "9. prof\n",
       "10. prof\n",
       "11. prof\n",
       "12. prof\n",
       "13. prof\n",
       "14. prof\n",
       "15. prof\n",
       "16. prof\n",
       "17. prof\n",
       "18. prof\n",
       "19. prof\n",
       "20. prof\n",
       "21. prof\n",
       "22. prof\n",
       "23. prof\n",
       "24. prof\n",
       "25. prof\n",
       "26. prof\n",
       "27. prof\n",
       "28. bc\n",
       "29. prof\n",
       "30. prof\n",
       "31. wc\n",
       "32. prof\n",
       "33. wc\n",
       "34. &lt;NA&gt;\n",
       "35. wc\n",
       "36. wc\n",
       "37. wc\n",
       "38. wc\n",
       "39. wc\n",
       "40. wc\n",
       "41. wc\n",
       "42. wc\n",
       "43. wc\n",
       "44. wc\n",
       "45. wc\n",
       "46. wc\n",
       "47. wc\n",
       "48. wc\n",
       "49. wc\n",
       "50. wc\n",
       "51. wc\n",
       "52. wc\n",
       "53. &lt;NA&gt;\n",
       "54. bc\n",
       "55. wc\n",
       "56. wc\n",
       "57. wc\n",
       "58. bc\n",
       "59. bc\n",
       "60. bc\n",
       "61. bc\n",
       "62. bc\n",
       "63. &lt;NA&gt;\n",
       "64. bc\n",
       "65. bc\n",
       "66. bc\n",
       "67. &lt;NA&gt;\n",
       "68. bc\n",
       "69. bc\n",
       "70. bc\n",
       "71. bc\n",
       "72. bc\n",
       "73. bc\n",
       "74. bc\n",
       "75. bc\n",
       "76. bc\n",
       "77. bc\n",
       "78. bc\n",
       "79. bc\n",
       "80. bc\n",
       "81. bc\n",
       "82. bc\n",
       "83. bc\n",
       "84. bc\n",
       "85. bc\n",
       "86. bc\n",
       "87. bc\n",
       "88. bc\n",
       "89. bc\n",
       "90. bc\n",
       "91. bc\n",
       "92. bc\n",
       "93. bc\n",
       "94. bc\n",
       "95. bc\n",
       "96. prof\n",
       "97. bc\n",
       "98. bc\n",
       "99. bc\n",
       "100. bc\n",
       "101. bc\n",
       "102. bc\n",
       "\n",
       "\n"
      ],
      "text/plain": [
       "  [1] prof prof prof prof prof prof prof prof prof prof prof prof prof prof prof\n",
       " [16] prof prof prof prof prof prof prof prof prof prof prof prof bc   prof prof\n",
       " [31] wc   prof wc   <NA> wc   wc   wc   wc   wc   wc   wc   wc   wc   wc   wc  \n",
       " [46] wc   wc   wc   wc   wc   wc   wc   <NA> bc   wc   wc   wc   bc   bc   bc  \n",
       " [61] bc   bc   <NA> bc   bc   bc   <NA> bc   bc   bc   bc   bc   bc   bc   bc  \n",
       " [76] bc   bc   bc   bc   bc   bc   bc   bc   bc   bc   bc   bc   bc   bc   bc  \n",
       " [91] bc   bc   bc   bc   bc   prof bc   bc   bc   bc   bc   bc  \n",
       "Levels: bc wc prof"
      ]
     },
     "metadata": {},
     "output_type": "display_data"
    },
    {
     "data": {
      "text/html": [
       "'factor'"
      ],
      "text/latex": [
       "'factor'"
      ],
      "text/markdown": [
       "'factor'"
      ],
      "text/plain": [
       "[1] \"factor\""
      ]
     },
     "metadata": {},
     "output_type": "display_data"
    },
    {
     "data": {
      "text/html": [
       "<ol class=list-inline>\n",
       "\t<li>'bc'</li>\n",
       "\t<li>'wc'</li>\n",
       "\t<li>'prof'</li>\n",
       "</ol>\n"
      ],
      "text/latex": [
       "\\begin{enumerate*}\n",
       "\\item 'bc'\n",
       "\\item 'wc'\n",
       "\\item 'prof'\n",
       "\\end{enumerate*}\n"
      ],
      "text/markdown": [
       "1. 'bc'\n",
       "2. 'wc'\n",
       "3. 'prof'\n",
       "\n",
       "\n"
      ],
      "text/plain": [
       "[1] \"bc\"   \"wc\"   \"prof\""
      ]
     },
     "metadata": {},
     "output_type": "display_data"
    },
    {
     "data": {
      "text/html": [
       "<ol class=list-inline>\n",
       "\t<li>prof</li>\n",
       "\t<li>prof</li>\n",
       "\t<li>wc</li>\n",
       "\t<li>wc</li>\n",
       "\t<li>bc</li>\n",
       "\t<li>bc</li>\n",
       "</ol>\n"
      ],
      "text/latex": [
       "\\begin{enumerate*}\n",
       "\\item prof\n",
       "\\item prof\n",
       "\\item wc\n",
       "\\item wc\n",
       "\\item bc\n",
       "\\item bc\n",
       "\\end{enumerate*}\n"
      ],
      "text/markdown": [
       "1. prof\n",
       "2. prof\n",
       "3. wc\n",
       "4. wc\n",
       "5. bc\n",
       "6. bc\n",
       "\n",
       "\n"
      ],
      "text/plain": [
       "[1] prof prof wc   wc   bc   bc  \n",
       "Levels: bc wc prof"
      ]
     },
     "metadata": {},
     "output_type": "display_data"
    }
   ],
   "source": [
    "Prestige$type # This shows all the data for type\n",
    "class(Prestige$type)  # This tells us that R considers type to be a factor\n",
    "levels(Prestige$type) # And this shows the levels of the factor\n",
    "\n",
    "# You can specify the levels into different orders\n",
    "Prestige$type <- with(Prestige, factor(type,\n",
    "    levels=c(\"bc\", \"wc\", \"prof\")))\n",
    "select <- c(1, 2, 35, 36, 61, 62) # a few rows\n",
    "Prestige$type[select]  # a few values"
   ]
  },
  {
   "cell_type": "markdown",
   "metadata": {},
   "source": [
    "Transforming factors"
   ]
  },
  {
   "cell_type": "code",
   "execution_count": 280,
   "metadata": {},
   "outputs": [
    {
     "data": {
      "text/html": [
       "<ol class=list-inline>\n",
       "\t<li>3</li>\n",
       "\t<li>3</li>\n",
       "\t<li>2</li>\n",
       "\t<li>2</li>\n",
       "\t<li>1</li>\n",
       "\t<li>1</li>\n",
       "</ol>\n"
      ],
      "text/latex": [
       "\\begin{enumerate*}\n",
       "\\item 3\n",
       "\\item 3\n",
       "\\item 2\n",
       "\\item 2\n",
       "\\item 1\n",
       "\\item 1\n",
       "\\end{enumerate*}\n"
      ],
      "text/markdown": [
       "1. 3\n",
       "2. 3\n",
       "3. 2\n",
       "4. 2\n",
       "5. 1\n",
       "6. 1\n",
       "\n",
       "\n"
      ],
      "text/plain": [
       "[1] 3 3 2 2 1 1"
      ]
     },
     "metadata": {},
     "output_type": "display_data"
    },
    {
     "data": {
      "text/html": [
       "'numeric'"
      ],
      "text/latex": [
       "'numeric'"
      ],
      "text/markdown": [
       "'numeric'"
      ],
      "text/plain": [
       "[1] \"numeric\""
      ]
     },
     "metadata": {},
     "output_type": "display_data"
    },
    {
     "data": {
      "text/html": [
       "<ol class=list-inline>\n",
       "\t<li>'prof'</li>\n",
       "\t<li>'prof'</li>\n",
       "\t<li>'wc'</li>\n",
       "\t<li>'wc'</li>\n",
       "\t<li>'bc'</li>\n",
       "\t<li>'bc'</li>\n",
       "</ol>\n"
      ],
      "text/latex": [
       "\\begin{enumerate*}\n",
       "\\item 'prof'\n",
       "\\item 'prof'\n",
       "\\item 'wc'\n",
       "\\item 'wc'\n",
       "\\item 'bc'\n",
       "\\item 'bc'\n",
       "\\end{enumerate*}\n"
      ],
      "text/markdown": [
       "1. 'prof'\n",
       "2. 'prof'\n",
       "3. 'wc'\n",
       "4. 'wc'\n",
       "5. 'bc'\n",
       "6. 'bc'\n",
       "\n",
       "\n"
      ],
      "text/plain": [
       "[1] \"prof\" \"prof\" \"wc\"   \"wc\"   \"bc\"   \"bc\"  "
      ]
     },
     "metadata": {},
     "output_type": "display_data"
    },
    {
     "data": {
      "text/html": [
       "'character'"
      ],
      "text/latex": [
       "'character'"
      ],
      "text/markdown": [
       "'character'"
      ],
      "text/plain": [
       "[1] \"character\""
      ]
     },
     "metadata": {},
     "output_type": "display_data"
    },
    {
     "data": {
      "text/html": [
       "<ol class=list-inline>\n",
       "\t<li>prof</li>\n",
       "\t<li>prof</li>\n",
       "\t<li>wc</li>\n",
       "\t<li>wc</li>\n",
       "\t<li>bc</li>\n",
       "\t<li>bc</li>\n",
       "</ol>\n"
      ],
      "text/latex": [
       "\\begin{enumerate*}\n",
       "\\item prof\n",
       "\\item prof\n",
       "\\item wc\n",
       "\\item wc\n",
       "\\item bc\n",
       "\\item bc\n",
       "\\end{enumerate*}\n"
      ],
      "text/markdown": [
       "1. prof\n",
       "2. prof\n",
       "3. wc\n",
       "4. wc\n",
       "5. bc\n",
       "6. bc\n",
       "\n",
       "\n"
      ],
      "text/plain": [
       "[1] prof prof wc   wc   bc   bc  \n",
       "Levels: bc wc prof"
      ]
     },
     "metadata": {},
     "output_type": "display_data"
    }
   ],
   "source": [
    "# This is just to show that factors could be transformed into numbers or characters (but warning the number transformation is not what you get from contrasts)\n",
    "type.number <- as.numeric(Prestige$type)\n",
    "type.number[select]\n",
    "class(type.number)\n",
    "type.character <- as.character(Prestige$type)\n",
    "type.character[select]\n",
    "class(type.character)\n",
    "type.factor <- factor(type.character, levels=c(\"bc\", \"wc\", \"prof\"))\n",
    "type.factor[select]"
   ]
  },
  {
   "cell_type": "markdown",
   "metadata": {},
   "source": [
    "Getting contrasts"
   ]
  },
  {
   "cell_type": "code",
   "execution_count": 281,
   "metadata": {},
   "outputs": [
    {
     "data": {
      "text/html": [
       "<ol class=list-inline>\n",
       "\t<li>a</li>\n",
       "\t<li>a</li>\n",
       "\t<li>a</li>\n",
       "\t<li>b</li>\n",
       "\t<li>b</li>\n",
       "\t<li>c</li>\n",
       "\t<li>c</li>\n",
       "\t<li>c</li>\n",
       "\t<li>c</li>\n",
       "\t<li>d</li>\n",
       "</ol>\n"
      ],
      "text/latex": [
       "\\begin{enumerate*}\n",
       "\\item a\n",
       "\\item a\n",
       "\\item a\n",
       "\\item b\n",
       "\\item b\n",
       "\\item c\n",
       "\\item c\n",
       "\\item c\n",
       "\\item c\n",
       "\\item d\n",
       "\\end{enumerate*}\n"
      ],
      "text/markdown": [
       "1. a\n",
       "2. a\n",
       "3. a\n",
       "4. b\n",
       "5. b\n",
       "6. c\n",
       "7. c\n",
       "8. c\n",
       "9. c\n",
       "10. d\n",
       "\n",
       "\n"
      ],
      "text/plain": [
       " [1] a a a b b c c c c d\n",
       "Levels: a b c d"
      ]
     },
     "metadata": {},
     "output_type": "display_data"
    },
    {
     "data": {
      "text/html": [
       "<table>\n",
       "<thead><tr><th></th><th scope=col>(Intercept)</th><th scope=col>zb</th><th scope=col>zc</th><th scope=col>zd</th></tr></thead>\n",
       "<tbody>\n",
       "\t<tr><th scope=row>1</th><td>1</td><td>0</td><td>0</td><td>0</td></tr>\n",
       "\t<tr><th scope=row>2</th><td>1</td><td>0</td><td>0</td><td>0</td></tr>\n",
       "\t<tr><th scope=row>3</th><td>1</td><td>0</td><td>0</td><td>0</td></tr>\n",
       "\t<tr><th scope=row>4</th><td>1</td><td>1</td><td>0</td><td>0</td></tr>\n",
       "\t<tr><th scope=row>5</th><td>1</td><td>1</td><td>0</td><td>0</td></tr>\n",
       "\t<tr><th scope=row>6</th><td>1</td><td>0</td><td>1</td><td>0</td></tr>\n",
       "\t<tr><th scope=row>7</th><td>1</td><td>0</td><td>1</td><td>0</td></tr>\n",
       "\t<tr><th scope=row>8</th><td>1</td><td>0</td><td>1</td><td>0</td></tr>\n",
       "\t<tr><th scope=row>9</th><td>1</td><td>0</td><td>1</td><td>0</td></tr>\n",
       "\t<tr><th scope=row>10</th><td>1</td><td>0</td><td>0</td><td>1</td></tr>\n",
       "</tbody>\n",
       "</table>\n"
      ],
      "text/latex": [
       "\\begin{tabular}{r|llll}\n",
       "  & (Intercept) & zb & zc & zd\\\\\n",
       "\\hline\n",
       "\t1 & 1 & 0 & 0 & 0\\\\\n",
       "\t2 & 1 & 0 & 0 & 0\\\\\n",
       "\t3 & 1 & 0 & 0 & 0\\\\\n",
       "\t4 & 1 & 1 & 0 & 0\\\\\n",
       "\t5 & 1 & 1 & 0 & 0\\\\\n",
       "\t6 & 1 & 0 & 1 & 0\\\\\n",
       "\t7 & 1 & 0 & 1 & 0\\\\\n",
       "\t8 & 1 & 0 & 1 & 0\\\\\n",
       "\t9 & 1 & 0 & 1 & 0\\\\\n",
       "\t10 & 1 & 0 & 0 & 1\\\\\n",
       "\\end{tabular}\n"
      ],
      "text/markdown": [
       "\n",
       "| <!--/--> | (Intercept) | zb | zc | zd | \n",
       "|---|---|---|---|---|---|---|---|---|---|\n",
       "| 1 | 1 | 0 | 0 | 0 | \n",
       "| 2 | 1 | 0 | 0 | 0 | \n",
       "| 3 | 1 | 0 | 0 | 0 | \n",
       "| 4 | 1 | 1 | 0 | 0 | \n",
       "| 5 | 1 | 1 | 0 | 0 | \n",
       "| 6 | 1 | 0 | 1 | 0 | \n",
       "| 7 | 1 | 0 | 1 | 0 | \n",
       "| 8 | 1 | 0 | 1 | 0 | \n",
       "| 9 | 1 | 0 | 1 | 0 | \n",
       "| 10 | 1 | 0 | 0 | 1 | \n",
       "\n",
       "\n"
      ],
      "text/plain": [
       "   (Intercept) zb zc zd\n",
       "1  1           0  0  0 \n",
       "2  1           0  0  0 \n",
       "3  1           0  0  0 \n",
       "4  1           1  0  0 \n",
       "5  1           1  0  0 \n",
       "6  1           0  1  0 \n",
       "7  1           0  1  0 \n",
       "8  1           0  1  0 \n",
       "9  1           0  1  0 \n",
       "10 1           0  0  1 "
      ]
     },
     "metadata": {},
     "output_type": "display_data"
    }
   ],
   "source": [
    "# This shows you how contrasts work\n",
    "(z <- factor(rep(c(\"a\", \"b\", \"c\", \"d\"), c(3, 2, 4, 1))))\n",
    "model.matrix(~ z)"
   ]
  },
  {
   "cell_type": "markdown",
   "metadata": {},
   "source": [
    "### Exercise 4: Contrasts for prestige$type"
   ]
  },
  {
   "cell_type": "markdown",
   "metadata": {},
   "source": [
    "Q: What are the contrast for Prestige$type? First try to guess then and then use the contrasts command.\n",
    "\n",
    "A: My expectation would be that there will be 1's at wc and prof and 0s elsewhere for the basic contrast, that should be sufficient for everything. This is because bc will be used as the \"base\" by R, the other two will be relative to this"
   ]
  },
  {
   "cell_type": "code",
   "execution_count": 282,
   "metadata": {},
   "outputs": [
    {
     "data": {
      "text/html": [
       "<table>\n",
       "<thead><tr><th></th><th scope=col>wc</th><th scope=col>prof</th></tr></thead>\n",
       "<tbody>\n",
       "\t<tr><th scope=row>bc</th><td>0</td><td>0</td></tr>\n",
       "\t<tr><th scope=row>wc</th><td>1</td><td>0</td></tr>\n",
       "\t<tr><th scope=row>prof</th><td>0</td><td>1</td></tr>\n",
       "</tbody>\n",
       "</table>\n"
      ],
      "text/latex": [
       "\\begin{tabular}{r|ll}\n",
       "  & wc & prof\\\\\n",
       "\\hline\n",
       "\tbc & 0 & 0\\\\\n",
       "\twc & 1 & 0\\\\\n",
       "\tprof & 0 & 1\\\\\n",
       "\\end{tabular}\n"
      ],
      "text/markdown": [
       "\n",
       "| <!--/--> | wc | prof | \n",
       "|---|---|---|\n",
       "| bc | 0 | 0 | \n",
       "| wc | 1 | 0 | \n",
       "| prof | 0 | 1 | \n",
       "\n",
       "\n"
      ],
      "text/plain": [
       "     wc prof\n",
       "bc   0  0   \n",
       "wc   1  0   \n",
       "prof 0  1   "
      ]
     },
     "metadata": {},
     "output_type": "display_data"
    }
   ],
   "source": [
    "contrasts(Prestige$type)"
   ]
  },
  {
   "cell_type": "code",
   "execution_count": 283,
   "metadata": {},
   "outputs": [
    {
     "data": {
      "text/html": [
       "<dl class=dl-horizontal>\n",
       "\t<dt>bc</dt>\n",
       "\t\t<dd>35.5272727272727</dd>\n",
       "\t<dt>wc</dt>\n",
       "\t\t<dd>42.2434782608696</dd>\n",
       "\t<dt>prof</dt>\n",
       "\t\t<dd>67.8483870967742</dd>\n",
       "</dl>\n"
      ],
      "text/plain": [
       "      bc       wc     prof \n",
       "35.52727 42.24348 67.84839 "
      ]
     },
     "metadata": {},
     "output_type": "display_data"
    }
   ],
   "source": [
    "type_means= with(Prestige, tapply(prestige, type, mean))\n",
    "head(type_means)"
   ]
  },
  {
   "cell_type": "markdown",
   "metadata": {},
   "source": [
    "### Exercise 5: Linear regression with type as a factor"
   ]
  },
  {
   "cell_type": "markdown",
   "metadata": {},
   "source": [
    "Q: What values do you expect for the coefficients?\n",
    "   \n",
    "A: \n",
    "Values I expect for each:\n",
    "bc - just the mean\n",
    "wc - wc mean - bc mean \n",
    "prof - prof mean - bc mean\n",
    "\n",
    "BC is the base used by R because it comes first in the alphabet.\n",
    "The other two are just that coeff + another coeff large enough to get to the mean of the group overall.\n",
    "\n",
    "Note: This is because we are just doing a bivariate regression -- for the full regression you could not predict these coefficients b/c instead of just finding means you are finding slopes"
   ]
  },
  {
   "cell_type": "markdown",
   "metadata": {},
   "source": [
    "#### Run model, get summary"
   ]
  },
  {
   "cell_type": "code",
   "execution_count": 284,
   "metadata": {},
   "outputs": [
    {
     "data": {
      "text/plain": [
       "\n",
       "Call:\n",
       "lm(formula = prestige ~ as.factor(type), data = Prestige)\n",
       "\n",
       "Residuals:\n",
       "     Min       1Q   Median       3Q      Max \n",
       "-18.2273  -7.1773  -0.0854   6.1174  25.2565 \n",
       "\n",
       "Coefficients:\n",
       "                    Estimate Std. Error t value Pr(>|t|)\n",
       "(Intercept)           35.527      1.432  24.810  < 2e-16\n",
       "as.factor(type)wc      6.716      2.444   2.748  0.00718\n",
       "as.factor(type)prof   32.321      2.227  14.511  < 2e-16\n",
       "\n",
       "Residual standard error: 9.499 on 95 degrees of freedom\n",
       "  (4 observations deleted due to missingness)\n",
       "Multiple R-squared:  0.6976,\tAdjusted R-squared:  0.6913 \n",
       "F-statistic: 109.6 on 2 and 95 DF,  p-value: < 2.2e-16\n"
      ]
     },
     "metadata": {},
     "output_type": "display_data"
    }
   ],
   "source": [
    "prestige.mod2 <- lm(prestige ~ as.factor(type), data=Prestige)\n",
    "summary(prestige.mod2)"
   ]
  },
  {
   "cell_type": "markdown",
   "metadata": {},
   "source": [
    "#### Check predictions"
   ]
  },
  {
   "cell_type": "code",
   "execution_count": 285,
   "metadata": {},
   "outputs": [
    {
     "data": {
      "text/html": [
       "<strong>(Intercept):</strong> TRUE"
      ],
      "text/latex": [
       "\\textbf{(Intercept):} TRUE"
      ],
      "text/markdown": [
       "**(Intercept):** TRUE"
      ],
      "text/plain": [
       "(Intercept) \n",
       "       TRUE "
      ]
     },
     "metadata": {},
     "output_type": "display_data"
    }
   ],
   "source": [
    "round(coef(prestige.mod2)[1]) == round(type_means[1])"
   ]
  },
  {
   "cell_type": "code",
   "execution_count": 286,
   "metadata": {},
   "outputs": [
    {
     "data": {
      "text/html": [
       "<strong>(Intercept):</strong> TRUE"
      ],
      "text/latex": [
       "\\textbf{(Intercept):} TRUE"
      ],
      "text/markdown": [
       "**(Intercept):** TRUE"
      ],
      "text/plain": [
       "(Intercept) \n",
       "       TRUE "
      ]
     },
     "metadata": {},
     "output_type": "display_data"
    }
   ],
   "source": [
    "round(coef(prestige.mod2)[1] + coef(prestige.mod2)[2]) == round(type_means[2])"
   ]
  },
  {
   "cell_type": "code",
   "execution_count": 287,
   "metadata": {},
   "outputs": [
    {
     "data": {
      "text/html": [
       "<strong>(Intercept):</strong> TRUE"
      ],
      "text/latex": [
       "\\textbf{(Intercept):} TRUE"
      ],
      "text/markdown": [
       "**(Intercept):** TRUE"
      ],
      "text/plain": [
       "(Intercept) \n",
       "       TRUE "
      ]
     },
     "metadata": {},
     "output_type": "display_data"
    }
   ],
   "source": [
    "round(coef(prestige.mod2)[1] + coef(prestige.mod2)[3]) == round(type_means[3])"
   ]
  },
  {
   "cell_type": "markdown",
   "metadata": {},
   "source": [
    "## Tutorial 3\n",
    "This is all the major things done in tutorial 3"
   ]
  },
  {
   "cell_type": "markdown",
   "metadata": {},
   "source": [
    "### Look at data"
   ]
  },
  {
   "cell_type": "code",
   "execution_count": 288,
   "metadata": {},
   "outputs": [
    {
     "data": {
      "text/html": [
       "<table>\n",
       "<thead><tr><th scope=col>sex</th><th scope=col>weight</th><th scope=col>height</th><th scope=col>repwt</th><th scope=col>repht</th></tr></thead>\n",
       "<tbody>\n",
       "\t<tr><td>M  </td><td>77 </td><td>182</td><td>77 </td><td>180</td></tr>\n",
       "\t<tr><td>F  </td><td>58 </td><td>161</td><td>51 </td><td>159</td></tr>\n",
       "\t<tr><td>F  </td><td>53 </td><td>161</td><td>54 </td><td>158</td></tr>\n",
       "\t<tr><td>M  </td><td>68 </td><td>177</td><td>70 </td><td>175</td></tr>\n",
       "\t<tr><td>F  </td><td>59 </td><td>157</td><td>59 </td><td>155</td></tr>\n",
       "\t<tr><td>M  </td><td>76 </td><td>170</td><td>76 </td><td>165</td></tr>\n",
       "</tbody>\n",
       "</table>\n"
      ],
      "text/latex": [
       "\\begin{tabular}{r|lllll}\n",
       " sex & weight & height & repwt & repht\\\\\n",
       "\\hline\n",
       "\t M   & 77  & 182 & 77  & 180\\\\\n",
       "\t F   & 58  & 161 & 51  & 159\\\\\n",
       "\t F   & 53  & 161 & 54  & 158\\\\\n",
       "\t M   & 68  & 177 & 70  & 175\\\\\n",
       "\t F   & 59  & 157 & 59  & 155\\\\\n",
       "\t M   & 76  & 170 & 76  & 165\\\\\n",
       "\\end{tabular}\n"
      ],
      "text/markdown": [
       "\n",
       "sex | weight | height | repwt | repht | \n",
       "|---|---|---|---|---|---|\n",
       "| M   | 77  | 182 | 77  | 180 | \n",
       "| F   | 58  | 161 | 51  | 159 | \n",
       "| F   | 53  | 161 | 54  | 158 | \n",
       "| M   | 68  | 177 | 70  | 175 | \n",
       "| F   | 59  | 157 | 59  | 155 | \n",
       "| M   | 76  | 170 | 76  | 165 | \n",
       "\n",
       "\n"
      ],
      "text/plain": [
       "  sex weight height repwt repht\n",
       "1 M   77     182    77    180  \n",
       "2 F   58     161    51    159  \n",
       "3 F   53     161    54    158  \n",
       "4 M   68     177    70    175  \n",
       "5 F   59     157    59    155  \n",
       "6 M   76     170    76    165  "
      ]
     },
     "metadata": {},
     "output_type": "display_data"
    },
    {
     "data": {
      "text/html": [
       "200"
      ],
      "text/latex": [
       "200"
      ],
      "text/markdown": [
       "200"
      ],
      "text/plain": [
       "[1] 200"
      ]
     },
     "metadata": {},
     "output_type": "display_data"
    }
   ],
   "source": [
    "head(Davis) # first 6 rows\n",
    "nrow(Davis)"
   ]
  },
  {
   "cell_type": "markdown",
   "metadata": {},
   "source": [
    "#### Show a scatter plot of the data"
   ]
  },
  {
   "cell_type": "code",
   "execution_count": 289,
   "metadata": {
    "scrolled": true
   },
   "outputs": [
    {
     "data": {
      "text/html": [
       "<strong>21:</strong> 21"
      ],
      "text/latex": [
       "\\textbf{21:} 21"
      ],
      "text/markdown": [
       "**21:** 21"
      ],
      "text/plain": [
       "21 \n",
       "21 "
      ]
     },
     "metadata": {},
     "output_type": "display_data"
    },
    {
     "data": {
      "image/png": "[encoded data removed]",
      "text/plain": [
       "plot without title"
      ]
     },
     "metadata": {},
     "output_type": "display_data"
    }
   ],
   "source": [
    "scatterplot(weight ~ repwt, data=Davis, smooth=FALSE, id.n=1)"
   ]
  },
  {
   "cell_type": "markdown",
   "metadata": {},
   "source": [
    "#### Perform the bi-variate regression"
   ]
  },
  {
   "cell_type": "code",
   "execution_count": 290,
   "metadata": {},
   "outputs": [
    {
     "data": {
      "text/plain": [
       "\n",
       "Call:\n",
       "lm(formula = weight ~ repwt, data = Davis)\n",
       "\n",
       "Coefficients:\n",
       "(Intercept)        repwt  \n",
       "     2.7480       0.9582  \n"
      ]
     },
     "metadata": {},
     "output_type": "display_data"
    },
    {
     "data": {
      "text/plain": [
       "\n",
       "Call:\n",
       "lm(formula = weight ~ repwt, data = Davis)\n",
       "\n",
       "Residuals:\n",
       "    Min      1Q  Median      3Q     Max \n",
       "-7.5270 -1.0942 -0.1151  1.1133  6.3834 \n",
       "\n",
       "Coefficients:\n",
       "            Estimate Std. Error t value Pr(>|t|)\n",
       "(Intercept)   2.7480     0.8109   3.389 0.000862\n",
       "repwt         0.9582     0.0121  79.222  < 2e-16\n",
       "\n",
       "Residual standard error: 2.248 on 181 degrees of freedom\n",
       "  (17 observations deleted due to missingness)\n",
       "Multiple R-squared:  0.972,\tAdjusted R-squared:  0.9718 \n",
       "F-statistic:  6276 on 1 and 181 DF,  p-value: < 2.2e-16\n"
      ]
     },
     "metadata": {},
     "output_type": "display_data"
    }
   ],
   "source": [
    "davis.mod <- lm(weight ~ repwt, data=Davis)\n",
    "davis.mod\n",
    "summary(davis.mod)"
   ]
  },
  {
   "cell_type": "markdown",
   "metadata": {},
   "source": [
    "#### Get coefficients"
   ]
  },
  {
   "cell_type": "code",
   "execution_count": 291,
   "metadata": {
    "collapsed": true
   },
   "outputs": [],
   "source": [
    "b0 = davis.mod$coefficients[1]\n",
    "b1 = davis.mod$coefficients[2]"
   ]
  },
  {
   "cell_type": "markdown",
   "metadata": {},
   "source": [
    "#### Use coefficients to calculate yhat for a specific value (10) of repweight"
   ]
  },
  {
   "cell_type": "code",
   "execution_count": 292,
   "metadata": {},
   "outputs": [
    {
     "data": {
      "text/html": [
       "<strong>(Intercept):</strong> 12.3300629958778"
      ],
      "text/latex": [
       "\\textbf{(Intercept):} 12.3300629958778"
      ],
      "text/markdown": [
       "**(Intercept):** 12.3300629958778"
      ],
      "text/plain": [
       "(Intercept) \n",
       "   12.33006 "
      ]
     },
     "metadata": {},
     "output_type": "display_data"
    }
   ],
   "source": [
    "repwt=10\n",
    "value = b0 + repwt*b1\n",
    "value"
   ]
  },
  {
   "cell_type": "markdown",
   "metadata": {},
   "source": [
    "### Perform multivariate regression"
   ]
  },
  {
   "cell_type": "markdown",
   "metadata": {},
   "source": [
    "#### We used the scatter plot command to look at the data and decided to use log2(income):"
   ]
  },
  {
   "cell_type": "code",
   "execution_count": 293,
   "metadata": {
    "scrolled": true
   },
   "outputs": [
    {
     "data": {
      "image/png": "[encoded data removed]",
      "text/plain": [
       "plot without title"
      ]
     },
     "metadata": {},
     "output_type": "display_data"
    }
   ],
   "source": [
    "scatterplotMatrix(~prestige + log2(income) + education + women, span=0.7, data=Prestige)"
   ]
  },
  {
   "cell_type": "markdown",
   "metadata": {},
   "source": [
    "#### Get multivariate model, show summary"
   ]
  },
  {
   "cell_type": "code",
   "execution_count": 294,
   "metadata": {},
   "outputs": [
    {
     "data": {
      "text/plain": [
       "\n",
       "Call:\n",
       "lm(formula = prestige ~ education + log2(income) + women, data = Prestige)\n",
       "\n",
       "Residuals:\n",
       "    Min      1Q  Median      3Q     Max \n",
       "-17.364  -4.429  -0.101   4.316  19.179 \n",
       "\n",
       "Coefficients:\n",
       "              Estimate Std. Error t value Pr(>|t|)\n",
       "(Intercept)  -110.9658    14.8429  -7.476 3.27e-11\n",
       "education       3.7305     0.3544  10.527  < 2e-16\n",
       "log2(income)    9.3147     1.3265   7.022 2.90e-10\n",
       "women           0.0469     0.0299   1.568     0.12\n",
       "\n",
       "Residual standard error: 7.093 on 98 degrees of freedom\n",
       "Multiple R-squared:  0.8351,\tAdjusted R-squared:   0.83 \n",
       "F-statistic: 165.4 on 3 and 98 DF,  p-value: < 2.2e-16\n"
      ]
     },
     "metadata": {},
     "output_type": "display_data"
    }
   ],
   "source": [
    "prestige.mod <- lm(prestige ~ education + log2(income) + women,\n",
    "    data=Prestige)\n",
    "    \n",
    "summary(prestige.mod)"
   ]
  },
  {
   "cell_type": "markdown",
   "metadata": {},
   "source": [
    "### Exercise 1: Visualize fit of model"
   ]
  },
  {
   "cell_type": "markdown",
   "metadata": {},
   "source": [
    "#### Plot the fit of the model, and add a y=x line (3 methods shown)"
   ]
  },
  {
   "cell_type": "code",
   "execution_count": 295,
   "metadata": {
    "scrolled": true
   },
   "outputs": [
    {
     "data": {
      "image/png": "[encoded data removed]",
      "text/plain": [
       "plot without title"
      ]
     },
     "metadata": {},
     "output_type": "display_data"
    }
   ],
   "source": [
    "plot(fitted(prestige.mod),Prestige$prestige)\n",
    "abline(c(0,1))\n",
    "abline(0,1)\n",
    "abline(a=0,b=1)"
   ]
  },
  {
   "cell_type": "markdown",
   "metadata": {},
   "source": [
    "#### Get a leverage plot\n",
    "shows the relationship between each variable and the main predictor"
   ]
  },
  {
   "cell_type": "code",
   "execution_count": 296,
   "metadata": {
    "scrolled": true
   },
   "outputs": [
    {
     "data": {
      "image/png": "[encoded data removed]",
      "text/plain": [
       "plot without title"
      ]
     },
     "metadata": {},
     "output_type": "display_data"
    }
   ],
   "source": [
    "leveragePlots(prestige.mod)"
   ]
  },
  {
   "cell_type": "markdown",
   "metadata": {},
   "source": [
    "#### Get a residual plot\n",
    "This can be used to check if the assumptions of the linear model are violated. \n",
    "\n",
    "For example, the relationship might not be linear (red lines aren't straight), data might be heteroskedastic (variance increases over time). "
   ]
  },
  {
   "cell_type": "code",
   "execution_count": 297,
   "metadata": {
    "scrolled": true
   },
   "outputs": [
    {
     "data": {
      "text/html": [
       "<table>\n",
       "<thead><tr><th></th><th scope=col>Test stat</th><th scope=col>Pr(&gt;|t|)</th></tr></thead>\n",
       "<tbody>\n",
       "\t<tr><th scope=row>education</th><td>1.756</td><td>0.082</td></tr>\n",
       "\t<tr><th scope=row>log2(income)</th><td>0.585</td><td>0.560</td></tr>\n",
       "\t<tr><th scope=row>women</th><td>2.277</td><td>0.025</td></tr>\n",
       "\t<tr><th scope=row>Tukey test</th><td>0.763</td><td>0.445</td></tr>\n",
       "</tbody>\n",
       "</table>\n"
      ],
      "text/latex": [
       "\\begin{tabular}{r|ll}\n",
       "  & Test stat & Pr(>\\textbar{}t\\textbar{})\\\\\n",
       "\\hline\n",
       "\teducation & 1.756 & 0.082\\\\\n",
       "\tlog2(income) & 0.585 & 0.560\\\\\n",
       "\twomen & 2.277 & 0.025\\\\\n",
       "\tTukey test & 0.763 & 0.445\\\\\n",
       "\\end{tabular}\n"
      ],
      "text/markdown": [
       "\n",
       "| <!--/--> | Test stat | Pr(>|t|) | \n",
       "|---|---|---|---|\n",
       "| education | 1.756 | 0.082 | \n",
       "| log2(income) | 0.585 | 0.560 | \n",
       "| women | 2.277 | 0.025 | \n",
       "| Tukey test | 0.763 | 0.445 | \n",
       "\n",
       "\n"
      ],
      "text/plain": [
       "             Test stat Pr(>|t|)\n",
       "education    1.756     0.082   \n",
       "log2(income) 0.585     0.560   \n",
       "women        2.277     0.025   \n",
       "Tukey test   0.763     0.445   "
      ]
     },
     "metadata": {},
     "output_type": "display_data"
    },
    {
     "data": {
      "image/png": "[encoded data removed]",
      "text/plain": [
       "plot without title"
      ]
     },
     "metadata": {},
     "output_type": "display_data"
    }
   ],
   "source": [
    "residualPlots(prestige.mod)"
   ]
  },
  {
   "cell_type": "markdown",
   "metadata": {},
   "source": [
    "####  Get all the diagnostic plots at once\n",
    "[How to interpret each of these plots](http://data.library.virginia.edu/diagnostic-plots/)\n",
    "In residuals vs fitted, check for the line not being straight, and for variance not being equal. \n",
    "\n",
    "In the QQ plot, check for the relationship not being linear -- i.e. a line with heavy or light tails. \n",
    "[How to interpret a QQ plot](https://stats.stackexchange.com/questions/101274/how-to-interpret-a-qq-plot)\n",
    "\n",
    "In residuals vs leverage, look for any data points outside the Cook's distance (dotted lines) -- that means they may be influencing things too much. "
   ]
  },
  {
   "cell_type": "code",
   "execution_count": 298,
   "metadata": {},
   "outputs": [
    {
     "data": {
      "image/png": "[encoded data removed]",
      "text/plain": [
       "Plot with title \"\""
      ]
     },
     "metadata": {},
     "output_type": "display_data"
    },
    {
     "data": {
      "image/png": "[encoded data removed]",
      "text/plain": [
       "Plot with title \"\""
      ]
     },
     "metadata": {},
     "output_type": "display_data"
    },
    {
     "data": {
      "image/png": "[encoded data removed]",
      "text/plain": [
       "Plot with title \"\""
      ]
     },
     "metadata": {},
     "output_type": "display_data"
    },
    {
     "data": {
      "image/png": "[encoded data removed]",
      "text/plain": [
       "Plot with title \"\""
      ]
     },
     "metadata": {},
     "output_type": "display_data"
    }
   ],
   "source": [
    "plot(prestige.mod)"
   ]
  },
  {
   "cell_type": "markdown",
   "metadata": {},
   "source": [
    "### Interlude: ANOVAs, T-tests, and contrasts"
   ]
  },
  {
   "cell_type": "markdown",
   "metadata": {},
   "source": [
    "The lm() can also be used predictor variables that are factors (also known as categorical or nominal variables).  \n",
    "\n",
    "One-way ANOVA: If we only have one variable we are doing a one-way ANOVA. \n",
    "\n",
    "T-test: If the variable has two-levels it is a t-test.\n",
    "\n",
    "The categorical variables are transformed into numeric variables called \"contrasts\".  You need k-1 contrast variables to code k levels. \n",
    "\n",
    "But remember that the linear model as j+1 parameters where j is the number of variables. So even though you might have 4 levels ie 3 variables, it is still 4 parameters in a linear model - level2,3,4 and an intercept representing level1"
   ]
  },
  {
   "cell_type": "code",
   "execution_count": 299,
   "metadata": {},
   "outputs": [
    {
     "data": {
      "text/html": [
       "<ol class=list-inline>\n",
       "\t<li>prof</li>\n",
       "\t<li>prof</li>\n",
       "\t<li>prof</li>\n",
       "\t<li>prof</li>\n",
       "\t<li>prof</li>\n",
       "\t<li>prof</li>\n",
       "\t<li>prof</li>\n",
       "\t<li>prof</li>\n",
       "\t<li>prof</li>\n",
       "\t<li>prof</li>\n",
       "\t<li>prof</li>\n",
       "\t<li>prof</li>\n",
       "\t<li>prof</li>\n",
       "\t<li>prof</li>\n",
       "\t<li>prof</li>\n",
       "\t<li>prof</li>\n",
       "\t<li>prof</li>\n",
       "\t<li>prof</li>\n",
       "\t<li>prof</li>\n",
       "\t<li>prof</li>\n",
       "\t<li>prof</li>\n",
       "\t<li>prof</li>\n",
       "\t<li>prof</li>\n",
       "\t<li>prof</li>\n",
       "\t<li>prof</li>\n",
       "\t<li>prof</li>\n",
       "\t<li>prof</li>\n",
       "\t<li>bc</li>\n",
       "\t<li>prof</li>\n",
       "\t<li>prof</li>\n",
       "\t<li>wc</li>\n",
       "\t<li>prof</li>\n",
       "\t<li>wc</li>\n",
       "\t<li>&lt;NA&gt;</li>\n",
       "\t<li>wc</li>\n",
       "\t<li>wc</li>\n",
       "\t<li>wc</li>\n",
       "\t<li>wc</li>\n",
       "\t<li>wc</li>\n",
       "\t<li>wc</li>\n",
       "\t<li>wc</li>\n",
       "\t<li>wc</li>\n",
       "\t<li>wc</li>\n",
       "\t<li>wc</li>\n",
       "\t<li>wc</li>\n",
       "\t<li>wc</li>\n",
       "\t<li>wc</li>\n",
       "\t<li>wc</li>\n",
       "\t<li>wc</li>\n",
       "\t<li>wc</li>\n",
       "\t<li>wc</li>\n",
       "\t<li>wc</li>\n",
       "\t<li>&lt;NA&gt;</li>\n",
       "\t<li>bc</li>\n",
       "\t<li>wc</li>\n",
       "\t<li>wc</li>\n",
       "\t<li>wc</li>\n",
       "\t<li>bc</li>\n",
       "\t<li>bc</li>\n",
       "\t<li>bc</li>\n",
       "\t<li>bc</li>\n",
       "\t<li>bc</li>\n",
       "\t<li>&lt;NA&gt;</li>\n",
       "\t<li>bc</li>\n",
       "\t<li>bc</li>\n",
       "\t<li>bc</li>\n",
       "\t<li>&lt;NA&gt;</li>\n",
       "\t<li>bc</li>\n",
       "\t<li>bc</li>\n",
       "\t<li>bc</li>\n",
       "\t<li>bc</li>\n",
       "\t<li>bc</li>\n",
       "\t<li>bc</li>\n",
       "\t<li>bc</li>\n",
       "\t<li>bc</li>\n",
       "\t<li>bc</li>\n",
       "\t<li>bc</li>\n",
       "\t<li>bc</li>\n",
       "\t<li>bc</li>\n",
       "\t<li>bc</li>\n",
       "\t<li>bc</li>\n",
       "\t<li>bc</li>\n",
       "\t<li>bc</li>\n",
       "\t<li>bc</li>\n",
       "\t<li>bc</li>\n",
       "\t<li>bc</li>\n",
       "\t<li>bc</li>\n",
       "\t<li>bc</li>\n",
       "\t<li>bc</li>\n",
       "\t<li>bc</li>\n",
       "\t<li>bc</li>\n",
       "\t<li>bc</li>\n",
       "\t<li>bc</li>\n",
       "\t<li>bc</li>\n",
       "\t<li>bc</li>\n",
       "\t<li>prof</li>\n",
       "\t<li>bc</li>\n",
       "\t<li>bc</li>\n",
       "\t<li>bc</li>\n",
       "\t<li>bc</li>\n",
       "\t<li>bc</li>\n",
       "\t<li>bc</li>\n",
       "</ol>\n"
      ],
      "text/latex": [
       "\\begin{enumerate*}\n",
       "\\item prof\n",
       "\\item prof\n",
       "\\item prof\n",
       "\\item prof\n",
       "\\item prof\n",
       "\\item prof\n",
       "\\item prof\n",
       "\\item prof\n",
       "\\item prof\n",
       "\\item prof\n",
       "\\item prof\n",
       "\\item prof\n",
       "\\item prof\n",
       "\\item prof\n",
       "\\item prof\n",
       "\\item prof\n",
       "\\item prof\n",
       "\\item prof\n",
       "\\item prof\n",
       "\\item prof\n",
       "\\item prof\n",
       "\\item prof\n",
       "\\item prof\n",
       "\\item prof\n",
       "\\item prof\n",
       "\\item prof\n",
       "\\item prof\n",
       "\\item bc\n",
       "\\item prof\n",
       "\\item prof\n",
       "\\item wc\n",
       "\\item prof\n",
       "\\item wc\n",
       "\\item <NA>\n",
       "\\item wc\n",
       "\\item wc\n",
       "\\item wc\n",
       "\\item wc\n",
       "\\item wc\n",
       "\\item wc\n",
       "\\item wc\n",
       "\\item wc\n",
       "\\item wc\n",
       "\\item wc\n",
       "\\item wc\n",
       "\\item wc\n",
       "\\item wc\n",
       "\\item wc\n",
       "\\item wc\n",
       "\\item wc\n",
       "\\item wc\n",
       "\\item wc\n",
       "\\item <NA>\n",
       "\\item bc\n",
       "\\item wc\n",
       "\\item wc\n",
       "\\item wc\n",
       "\\item bc\n",
       "\\item bc\n",
       "\\item bc\n",
       "\\item bc\n",
       "\\item bc\n",
       "\\item <NA>\n",
       "\\item bc\n",
       "\\item bc\n",
       "\\item bc\n",
       "\\item <NA>\n",
       "\\item bc\n",
       "\\item bc\n",
       "\\item bc\n",
       "\\item bc\n",
       "\\item bc\n",
       "\\item bc\n",
       "\\item bc\n",
       "\\item bc\n",
       "\\item bc\n",
       "\\item bc\n",
       "\\item bc\n",
       "\\item bc\n",
       "\\item bc\n",
       "\\item bc\n",
       "\\item bc\n",
       "\\item bc\n",
       "\\item bc\n",
       "\\item bc\n",
       "\\item bc\n",
       "\\item bc\n",
       "\\item bc\n",
       "\\item bc\n",
       "\\item bc\n",
       "\\item bc\n",
       "\\item bc\n",
       "\\item bc\n",
       "\\item bc\n",
       "\\item bc\n",
       "\\item prof\n",
       "\\item bc\n",
       "\\item bc\n",
       "\\item bc\n",
       "\\item bc\n",
       "\\item bc\n",
       "\\item bc\n",
       "\\end{enumerate*}\n"
      ],
      "text/markdown": [
       "1. prof\n",
       "2. prof\n",
       "3. prof\n",
       "4. prof\n",
       "5. prof\n",
       "6. prof\n",
       "7. prof\n",
       "8. prof\n",
       "9. prof\n",
       "10. prof\n",
       "11. prof\n",
       "12. prof\n",
       "13. prof\n",
       "14. prof\n",
       "15. prof\n",
       "16. prof\n",
       "17. prof\n",
       "18. prof\n",
       "19. prof\n",
       "20. prof\n",
       "21. prof\n",
       "22. prof\n",
       "23. prof\n",
       "24. prof\n",
       "25. prof\n",
       "26. prof\n",
       "27. prof\n",
       "28. bc\n",
       "29. prof\n",
       "30. prof\n",
       "31. wc\n",
       "32. prof\n",
       "33. wc\n",
       "34. &lt;NA&gt;\n",
       "35. wc\n",
       "36. wc\n",
       "37. wc\n",
       "38. wc\n",
       "39. wc\n",
       "40. wc\n",
       "41. wc\n",
       "42. wc\n",
       "43. wc\n",
       "44. wc\n",
       "45. wc\n",
       "46. wc\n",
       "47. wc\n",
       "48. wc\n",
       "49. wc\n",
       "50. wc\n",
       "51. wc\n",
       "52. wc\n",
       "53. &lt;NA&gt;\n",
       "54. bc\n",
       "55. wc\n",
       "56. wc\n",
       "57. wc\n",
       "58. bc\n",
       "59. bc\n",
       "60. bc\n",
       "61. bc\n",
       "62. bc\n",
       "63. &lt;NA&gt;\n",
       "64. bc\n",
       "65. bc\n",
       "66. bc\n",
       "67. &lt;NA&gt;\n",
       "68. bc\n",
       "69. bc\n",
       "70. bc\n",
       "71. bc\n",
       "72. bc\n",
       "73. bc\n",
       "74. bc\n",
       "75. bc\n",
       "76. bc\n",
       "77. bc\n",
       "78. bc\n",
       "79. bc\n",
       "80. bc\n",
       "81. bc\n",
       "82. bc\n",
       "83. bc\n",
       "84. bc\n",
       "85. bc\n",
       "86. bc\n",
       "87. bc\n",
       "88. bc\n",
       "89. bc\n",
       "90. bc\n",
       "91. bc\n",
       "92. bc\n",
       "93. bc\n",
       "94. bc\n",
       "95. bc\n",
       "96. prof\n",
       "97. bc\n",
       "98. bc\n",
       "99. bc\n",
       "100. bc\n",
       "101. bc\n",
       "102. bc\n",
       "\n",
       "\n"
      ],
      "text/plain": [
       "  [1] prof prof prof prof prof prof prof prof prof prof prof prof prof prof prof\n",
       " [16] prof prof prof prof prof prof prof prof prof prof prof prof bc   prof prof\n",
       " [31] wc   prof wc   <NA> wc   wc   wc   wc   wc   wc   wc   wc   wc   wc   wc  \n",
       " [46] wc   wc   wc   wc   wc   wc   wc   <NA> bc   wc   wc   wc   bc   bc   bc  \n",
       " [61] bc   bc   <NA> bc   bc   bc   <NA> bc   bc   bc   bc   bc   bc   bc   bc  \n",
       " [76] bc   bc   bc   bc   bc   bc   bc   bc   bc   bc   bc   bc   bc   bc   bc  \n",
       " [91] bc   bc   bc   bc   bc   prof bc   bc   bc   bc   bc   bc  \n",
       "Levels: bc wc prof"
      ]
     },
     "metadata": {},
     "output_type": "display_data"
    },
    {
     "data": {
      "text/html": [
       "'factor'"
      ],
      "text/latex": [
       "'factor'"
      ],
      "text/markdown": [
       "'factor'"
      ],
      "text/plain": [
       "[1] \"factor\""
      ]
     },
     "metadata": {},
     "output_type": "display_data"
    },
    {
     "data": {
      "text/html": [
       "<ol class=list-inline>\n",
       "\t<li>'bc'</li>\n",
       "\t<li>'wc'</li>\n",
       "\t<li>'prof'</li>\n",
       "</ol>\n"
      ],
      "text/latex": [
       "\\begin{enumerate*}\n",
       "\\item 'bc'\n",
       "\\item 'wc'\n",
       "\\item 'prof'\n",
       "\\end{enumerate*}\n"
      ],
      "text/markdown": [
       "1. 'bc'\n",
       "2. 'wc'\n",
       "3. 'prof'\n",
       "\n",
       "\n"
      ],
      "text/plain": [
       "[1] \"bc\"   \"wc\"   \"prof\""
      ]
     },
     "metadata": {},
     "output_type": "display_data"
    }
   ],
   "source": [
    "Prestige$type # This shows all the data for type\n",
    "class(Prestige$type)  # This tells us that R considers type to be a factor\n",
    "levels(Prestige$type) # And this shows the levels of the factor"
   ]
  },
  {
   "cell_type": "markdown",
   "metadata": {},
   "source": [
    "#### Show contrasts for type"
   ]
  },
  {
   "cell_type": "code",
   "execution_count": 300,
   "metadata": {},
   "outputs": [
    {
     "data": {
      "text/html": [
       "<table>\n",
       "<thead><tr><th></th><th scope=col>wc</th><th scope=col>prof</th></tr></thead>\n",
       "<tbody>\n",
       "\t<tr><th scope=row>bc</th><td>0</td><td>0</td></tr>\n",
       "\t<tr><th scope=row>wc</th><td>1</td><td>0</td></tr>\n",
       "\t<tr><th scope=row>prof</th><td>0</td><td>1</td></tr>\n",
       "</tbody>\n",
       "</table>\n"
      ],
      "text/latex": [
       "\\begin{tabular}{r|ll}\n",
       "  & wc & prof\\\\\n",
       "\\hline\n",
       "\tbc & 0 & 0\\\\\n",
       "\twc & 1 & 0\\\\\n",
       "\tprof & 0 & 1\\\\\n",
       "\\end{tabular}\n"
      ],
      "text/markdown": [
       "\n",
       "| <!--/--> | wc | prof | \n",
       "|---|---|---|\n",
       "| bc | 0 | 0 | \n",
       "| wc | 1 | 0 | \n",
       "| prof | 0 | 1 | \n",
       "\n",
       "\n"
      ],
      "text/plain": [
       "     wc prof\n",
       "bc   0  0   \n",
       "wc   1  0   \n",
       "prof 0  1   "
      ]
     },
     "metadata": {},
     "output_type": "display_data"
    }
   ],
   "source": [
    "contrasts(Prestige$type)"
   ]
  },
  {
   "cell_type": "markdown",
   "metadata": {},
   "source": [
    "#### Find mean values for each factor in type"
   ]
  },
  {
   "cell_type": "code",
   "execution_count": 301,
   "metadata": {},
   "outputs": [
    {
     "data": {
      "text/html": [
       "<dl class=dl-horizontal>\n",
       "\t<dt>bc</dt>\n",
       "\t\t<dd>35.5272727272727</dd>\n",
       "\t<dt>wc</dt>\n",
       "\t\t<dd>42.2434782608696</dd>\n",
       "\t<dt>prof</dt>\n",
       "\t\t<dd>67.8483870967742</dd>\n",
       "</dl>\n"
      ],
      "text/plain": [
       "      bc       wc     prof \n",
       "35.52727 42.24348 67.84839 "
      ]
     },
     "metadata": {},
     "output_type": "display_data"
    }
   ],
   "source": [
    "with(Prestige, tapply(prestige, type, mean))"
   ]
  },
  {
   "cell_type": "markdown",
   "metadata": {},
   "source": [
    "#### One way ANOVA"
   ]
  },
  {
   "cell_type": "code",
   "execution_count": 302,
   "metadata": {},
   "outputs": [
    {
     "data": {
      "text/plain": [
       "\n",
       "Call:\n",
       "lm(formula = prestige ~ type, data = Prestige)\n",
       "\n",
       "Residuals:\n",
       "     Min       1Q   Median       3Q      Max \n",
       "-18.2273  -7.1773  -0.0854   6.1174  25.2565 \n",
       "\n",
       "Coefficients:\n",
       "            Estimate Std. Error t value Pr(>|t|)\n",
       "(Intercept)   35.527      1.432  24.810  < 2e-16\n",
       "typewc         6.716      2.444   2.748  0.00718\n",
       "typeprof      32.321      2.227  14.511  < 2e-16\n",
       "\n",
       "Residual standard error: 9.499 on 95 degrees of freedom\n",
       "  (4 observations deleted due to missingness)\n",
       "Multiple R-squared:  0.6976,\tAdjusted R-squared:  0.6913 \n",
       "F-statistic: 109.6 on 2 and 95 DF,  p-value: < 2.2e-16\n"
      ]
     },
     "metadata": {},
     "output_type": "display_data"
    }
   ],
   "source": [
    "prestige.mod.type = lm(prestige ~ type, data=Prestige)\n",
    "summary(prestige.mod.type)"
   ]
  },
  {
   "cell_type": "markdown",
   "metadata": {},
   "source": [
    "#### Additional one way ANOVA example"
   ]
  },
  {
   "cell_type": "code",
   "execution_count": 303,
   "metadata": {
    "scrolled": true
   },
   "outputs": [
    {
     "data": {
      "text/html": [
       "<table>\n",
       "<thead><tr><th></th><th scope=col>group</th><th scope=col>pretest.1</th><th scope=col>pretest.2</th><th scope=col>post.test.1</th><th scope=col>post.test.2</th><th scope=col>post.test.3</th></tr></thead>\n",
       "<tbody>\n",
       "\t<tr><th scope=row>1</th><td>Basal</td><td> 4   </td><td>3    </td><td> 5   </td><td> 4   </td><td>41   </td></tr>\n",
       "\t<tr><th scope=row>8</th><td>Basal</td><td>12   </td><td>7    </td><td> 5   </td><td> 5   </td><td>32   </td></tr>\n",
       "\t<tr><th scope=row>14</th><td>Basal</td><td>12   </td><td>2    </td><td> 8   </td><td> 8   </td><td>44   </td></tr>\n",
       "\t<tr><th scope=row>30</th><td>DRTA </td><td> 8   </td><td>7    </td><td>13   </td><td> 5   </td><td>53   </td></tr>\n",
       "\t<tr><th scope=row>39</th><td>DRTA </td><td> 9   </td><td>5    </td><td>12   </td><td> 6   </td><td>54   </td></tr>\n",
       "\t<tr><th scope=row>40</th><td>DRTA </td><td>13   </td><td>6    </td><td>10   </td><td> 6   </td><td>41   </td></tr>\n",
       "\t<tr><th scope=row>41</th><td>DRTA </td><td>10   </td><td>2    </td><td>11   </td><td> 6   </td><td>49   </td></tr>\n",
       "\t<tr><th scope=row>54</th><td>Strat</td><td> 9   </td><td>5    </td><td> 7   </td><td>11   </td><td>42   </td></tr>\n",
       "\t<tr><th scope=row>63</th><td>Strat</td><td>14   </td><td>4    </td><td>15   </td><td> 7   </td><td>49   </td></tr>\n",
       "\t<tr><th scope=row>64</th><td>Strat</td><td> 8   </td><td>2    </td><td> 9   </td><td> 5   </td><td>33   </td></tr>\n",
       "</tbody>\n",
       "</table>\n"
      ],
      "text/latex": [
       "\\begin{tabular}{r|llllll}\n",
       "  & group & pretest.1 & pretest.2 & post.test.1 & post.test.2 & post.test.3\\\\\n",
       "\\hline\n",
       "\t1 & Basal &  4    & 3     &  5    &  4    & 41   \\\\\n",
       "\t8 & Basal & 12    & 7     &  5    &  5    & 32   \\\\\n",
       "\t14 & Basal & 12    & 2     &  8    &  8    & 44   \\\\\n",
       "\t30 & DRTA  &  8    & 7     & 13    &  5    & 53   \\\\\n",
       "\t39 & DRTA  &  9    & 5     & 12    &  6    & 54   \\\\\n",
       "\t40 & DRTA  & 13    & 6     & 10    &  6    & 41   \\\\\n",
       "\t41 & DRTA  & 10    & 2     & 11    &  6    & 49   \\\\\n",
       "\t54 & Strat &  9    & 5     &  7    & 11    & 42   \\\\\n",
       "\t63 & Strat & 14    & 4     & 15    &  7    & 49   \\\\\n",
       "\t64 & Strat &  8    & 2     &  9    &  5    & 33   \\\\\n",
       "\\end{tabular}\n"
      ],
      "text/markdown": [
       "\n",
       "| <!--/--> | group | pretest.1 | pretest.2 | post.test.1 | post.test.2 | post.test.3 | \n",
       "|---|---|---|---|---|---|---|---|---|---|\n",
       "| 1 | Basal |  4    | 3     |  5    |  4    | 41    | \n",
       "| 8 | Basal | 12    | 7     |  5    |  5    | 32    | \n",
       "| 14 | Basal | 12    | 2     |  8    |  8    | 44    | \n",
       "| 30 | DRTA  |  8    | 7     | 13    |  5    | 53    | \n",
       "| 39 | DRTA  |  9    | 5     | 12    |  6    | 54    | \n",
       "| 40 | DRTA  | 13    | 6     | 10    |  6    | 41    | \n",
       "| 41 | DRTA  | 10    | 2     | 11    |  6    | 49    | \n",
       "| 54 | Strat |  9    | 5     |  7    | 11    | 42    | \n",
       "| 63 | Strat | 14    | 4     | 15    |  7    | 49    | \n",
       "| 64 | Strat |  8    | 2     |  9    |  5    | 33    | \n",
       "\n",
       "\n"
      ],
      "text/plain": [
       "   group pretest.1 pretest.2 post.test.1 post.test.2 post.test.3\n",
       "1  Basal  4        3          5           4          41         \n",
       "8  Basal 12        7          5           5          32         \n",
       "14 Basal 12        2          8           8          44         \n",
       "30 DRTA   8        7         13           5          53         \n",
       "39 DRTA   9        5         12           6          54         \n",
       "40 DRTA  13        6         10           6          41         \n",
       "41 DRTA  10        2         11           6          49         \n",
       "54 Strat  9        5          7          11          42         \n",
       "63 Strat 14        4         15           7          49         \n",
       "64 Strat  8        2          9           5          33         "
      ]
     },
     "metadata": {},
     "output_type": "display_data"
    },
    {
     "data": {
      "text/html": [
       "66"
      ],
      "text/latex": [
       "66"
      ],
      "text/markdown": [
       "66"
      ],
      "text/plain": [
       "[1] 66"
      ]
     },
     "metadata": {},
     "output_type": "display_data"
    },
    {
     "data": {
      "text/plain": [
       "group\n",
       "Basal  DRTA Strat \n",
       "   22    22    22 "
      ]
     },
     "metadata": {},
     "output_type": "display_data"
    },
    {
     "data": {
      "text/html": [
       "<dl class=dl-horizontal>\n",
       "\t<dt>Basal</dt>\n",
       "\t\t<dd>41.0454545454545</dd>\n",
       "\t<dt>DRTA</dt>\n",
       "\t\t<dd>46.7272727272727</dd>\n",
       "\t<dt>Strat</dt>\n",
       "\t\t<dd>44.2727272727273</dd>\n",
       "</dl>\n"
      ],
      "text/plain": [
       "   Basal     DRTA    Strat \n",
       "41.04545 46.72727 44.27273 "
      ]
     },
     "metadata": {},
     "output_type": "display_data"
    },
    {
     "data": {
      "text/html": [
       "<dl class=dl-horizontal>\n",
       "\t<dt>Basal</dt>\n",
       "\t\t<dd>5.63557807680279</dd>\n",
       "\t<dt>DRTA</dt>\n",
       "\t\t<dd>7.38841962727785</dd>\n",
       "\t<dt>Strat</dt>\n",
       "\t\t<dd>5.76675049359787</dd>\n",
       "</dl>\n"
      ],
      "text/plain": [
       "   Basal     DRTA    Strat \n",
       "5.635578 7.388420 5.766750 "
      ]
     },
     "metadata": {},
     "output_type": "display_data"
    }
   ],
   "source": [
    "set.seed(1234) # to reproduce results in the text\n",
    "\n",
    "some(Baumann) # sample 10 observations\n",
    "nrow(Baumann)\n",
    "xtabs(~ group, data=Baumann)\n",
    "with(Baumann, tapply(post.test.3, group, mean))\n",
    "with(Baumann, tapply(post.test.3, group, sd))"
   ]
  },
  {
   "cell_type": "markdown",
   "metadata": {},
   "source": [
    "Plot results"
   ]
  },
  {
   "cell_type": "code",
   "execution_count": 304,
   "metadata": {
    "scrolled": true
   },
   "outputs": [
    {
     "data": {
      "image/png": "[encoded data removed]",
      "text/plain": [
       "plot without title"
      ]
     },
     "metadata": {},
     "output_type": "display_data"
    }
   ],
   "source": [
    "plot(post.test.3 ~ group, data=Baumann, xlab=\"Group\",\n",
    "     ylab=\"Reading Score\")"
   ]
  },
  {
   "cell_type": "markdown",
   "metadata": {},
   "source": [
    "Get summary of model"
   ]
  },
  {
   "cell_type": "code",
   "execution_count": 305,
   "metadata": {},
   "outputs": [
    {
     "data": {
      "text/plain": [
       "\n",
       "Call:\n",
       "lm(formula = post.test.3 ~ group, data = Baumann)\n",
       "\n",
       "Residuals:\n",
       "    Min      1Q  Median      3Q     Max \n",
       "-16.727  -3.614   1.114   3.954  12.954 \n",
       "\n",
       "Coefficients:\n",
       "            Estimate Std. Error t value Pr(>|t|)\n",
       "(Intercept)   41.045      1.346  30.490  < 2e-16\n",
       "groupDRTA      5.682      1.904   2.985  0.00404\n",
       "groupStrat     3.227      1.904   1.695  0.09498\n",
       "\n",
       "Residual standard error: 6.314 on 63 degrees of freedom\n",
       "Multiple R-squared:  0.1245,\tAdjusted R-squared:  0.09675 \n",
       "F-statistic: 4.481 on 2 and 63 DF,  p-value: 0.01515\n"
      ]
     },
     "metadata": {},
     "output_type": "display_data"
    }
   ],
   "source": [
    "baum.mod.1 <- lm(post.test.3 ~ group, data=Baumann)\n",
    "summary(baum.mod.1)"
   ]
  },
  {
   "cell_type": "markdown",
   "metadata": {},
   "source": [
    "#### Change your reference level -- note, the easier way is just to re-order the levels of the factor"
   ]
  },
  {
   "cell_type": "code",
   "execution_count": 306,
   "metadata": {},
   "outputs": [
    {
     "data": {
      "text/plain": [
       "\n",
       "Call:\n",
       "lm(formula = post.test.3 ~ relevel(group, ref = \"DRTA\"), data = Baumann)\n",
       "\n",
       "Residuals:\n",
       "    Min      1Q  Median      3Q     Max \n",
       "-16.727  -3.614   1.114   3.954  12.954 \n",
       "\n",
       "Coefficients:\n",
       "                                  Estimate Std. Error t value Pr(>|t|)\n",
       "(Intercept)                         46.727      1.346  34.711  < 2e-16\n",
       "relevel(group, ref = \"DRTA\")Basal   -5.682      1.904  -2.985  0.00404\n",
       "relevel(group, ref = \"DRTA\")Strat   -2.455      1.904  -1.289  0.20201\n",
       "\n",
       "Residual standard error: 6.314 on 63 degrees of freedom\n",
       "Multiple R-squared:  0.1245,\tAdjusted R-squared:  0.09675 \n",
       "F-statistic: 4.481 on 2 and 63 DF,  p-value: 0.01515\n"
      ]
     },
     "metadata": {},
     "output_type": "display_data"
    }
   ],
   "source": [
    "summary(update(baum.mod.1, . ~ . - group +\n",
    "    relevel(group, ref=\"DRTA\")))"
   ]
  },
  {
   "cell_type": "markdown",
   "metadata": {},
   "source": [
    "#### ANCOVA"
   ]
  },
  {
   "cell_type": "markdown",
   "metadata": {},
   "source": [
    "You can also have a mixture of facotrs and numerical predictors in an `lm()`, called an ANCOVA - analysis of covariance. In this example we aren't doing any interactions. \n",
    "\n",
    "ANCOVA = A linear model with a categorical and continous predictor"
   ]
  },
  {
   "cell_type": "markdown",
   "metadata": {},
   "source": [
    "Look at the data"
   ]
  },
  {
   "cell_type": "code",
   "execution_count": 308,
   "metadata": {},
   "outputs": [
    {
     "data": {
      "image/png": "[encoded data removed]",
      "text/plain": [
       "plot without title"
      ]
     },
     "metadata": {},
     "output_type": "display_data"
    }
   ],
   "source": [
    "scatterplotMatrix(~ prestige + log2(income) + education + women | type, data=Prestige, by.group=TRUE, id.n=0,\n",
    "smooth=FALSE)"
   ]
  },
  {
   "cell_type": "markdown",
   "metadata": {},
   "source": [
    "Identical to initial model, but minus women"
   ]
  },
  {
   "cell_type": "code",
   "execution_count": 309,
   "metadata": {},
   "outputs": [
    {
     "data": {
      "text/plain": [
       "\n",
       "Call:\n",
       "lm(formula = prestige ~ education + log2(income) + type, data = Prestige)\n",
       "\n",
       "Residuals:\n",
       "    Min      1Q  Median      3Q     Max \n",
       "-13.511  -3.746   1.011   4.356  18.438 \n",
       "\n",
       "Coefficients:\n",
       "             Estimate Std. Error t value Pr(>|t|)\n",
       "(Intercept)  -81.2019    13.7431  -5.909 5.63e-08\n",
       "education      3.2845     0.6081   5.401 5.06e-07\n",
       "log2(income)   7.2694     1.1900   6.109 2.31e-08\n",
       "typewc        -1.4394     2.3780  -0.605   0.5465\n",
       "typeprof       6.7509     3.6185   1.866   0.0652\n",
       "\n",
       "Residual standard error: 6.637 on 93 degrees of freedom\n",
       "  (4 observations deleted due to missingness)\n",
       "Multiple R-squared:  0.8555,\tAdjusted R-squared:  0.8493 \n",
       "F-statistic: 137.6 on 4 and 93 DF,  p-value: < 2.2e-16\n"
      ]
     },
     "metadata": {},
     "output_type": "display_data"
    }
   ],
   "source": [
    "prestige.mod.1 <- update(prestige.mod, ~ . - women + type) # ~. means same outcome, same predictors, minus women\n",
    "summary(prestige.mod.1)"
   ]
  },
  {
   "cell_type": "markdown",
   "metadata": {},
   "source": [
    "ANCOVA similar to above but with log transformed income"
   ]
  },
  {
   "cell_type": "code",
   "execution_count": 310,
   "metadata": {},
   "outputs": [
    {
     "data": {
      "text/plain": [
       "\n",
       "Call:\n",
       "lm(formula = prestige ~ . - women - census, data = Prestige)\n",
       "\n",
       "Residuals:\n",
       "     Min       1Q   Median       3Q      Max \n",
       "-14.9529  -4.4486   0.1678   5.0566  18.6320 \n",
       "\n",
       "Coefficients:\n",
       "              Estimate Std. Error t value Pr(>|t|)\n",
       "(Intercept) -0.6229292  5.2275255  -0.119    0.905\n",
       "education    3.6731661  0.6405016   5.735 1.21e-07\n",
       "income       0.0010132  0.0002209   4.586 1.40e-05\n",
       "typewc      -2.7372307  2.5139324  -1.089    0.279\n",
       "typeprof     6.0389707  3.8668551   1.562    0.122\n",
       "\n",
       "Residual standard error: 7.095 on 93 degrees of freedom\n",
       "  (4 observations deleted due to missingness)\n",
       "Multiple R-squared:  0.8349,\tAdjusted R-squared:  0.8278 \n",
       "F-statistic: 117.5 on 4 and 93 DF,  p-value: < 2.2e-16\n"
      ]
     },
     "metadata": {},
     "output_type": "display_data"
    }
   ],
   "source": [
    "prestige.mod.1b = lm(prestige ~ . -women -census, data=Prestige) #similar except didnt log transform income\n",
    "summary(prestige.mod.1b)"
   ]
  },
  {
   "cell_type": "markdown",
   "metadata": {},
   "source": [
    "#### Estimate adjusted means -- means when mean of covariates is taken into account"
   ]
  },
  {
   "cell_type": "code",
   "execution_count": 311,
   "metadata": {
    "scrolled": true
   },
   "outputs": [
    {
     "data": {
      "text/plain": [
       "\n",
       " type effect\n",
       "type\n",
       "      bc       wc     prof \n",
       "47.01505 45.57565 53.76594 "
      ]
     },
     "metadata": {},
     "output_type": "display_data"
    },
    {
     "data": {},
     "metadata": {},
     "output_type": "display_data"
    },
    {
     "data": {
      "image/png": "[encoded data removed]",
      "text/plain": [
       "plot without title"
      ]
     },
     "metadata": {},
     "output_type": "display_data"
    }
   ],
   "source": [
    "effect(\"type\", prestige.mod.1)\n",
    "plot(effect(\"type\", prestige.mod.1))"
   ]
  },
  {
   "cell_type": "code",
   "execution_count": 312,
   "metadata": {
    "scrolled": true
   },
   "outputs": [
    {
     "data": {
      "text/plain": [
       "\n",
       " type effect\n",
       "type\n",
       "      bc       wc     prof \n",
       "47.01505 45.57565 53.76594 \n",
       "\n",
       " Lower 95 Percent Confidence Limits\n",
       "type\n",
       "      bc       wc     prof \n",
       "43.61336 42.47173 49.34127 \n",
       "\n",
       " Upper 95 Percent Confidence Limits\n",
       "type\n",
       "      bc       wc     prof \n",
       "50.41674 48.67956 58.19060 "
      ]
     },
     "metadata": {},
     "output_type": "display_data"
    }
   ],
   "source": [
    "summary(effect(\"type\", prestige.mod.1))"
   ]
  },
  {
   "cell_type": "markdown",
   "metadata": {},
   "source": [
    "#### Look at all the objects in the model"
   ]
  },
  {
   "cell_type": "code",
   "execution_count": 313,
   "metadata": {},
   "outputs": [
    {
     "data": {
      "text/html": [
       "<ol class=list-inline>\n",
       "\t<li>'assign'</li>\n",
       "\t<li>'call'</li>\n",
       "\t<li>'coefficients'</li>\n",
       "\t<li>'contrasts'</li>\n",
       "\t<li>'df.residual'</li>\n",
       "\t<li>'effects'</li>\n",
       "\t<li>'fitted.values'</li>\n",
       "\t<li>'model'</li>\n",
       "\t<li>'na.action'</li>\n",
       "\t<li>'qr'</li>\n",
       "\t<li>'rank'</li>\n",
       "\t<li>'residuals'</li>\n",
       "\t<li>'terms'</li>\n",
       "\t<li>'xlevels'</li>\n",
       "</ol>\n"
      ],
      "text/latex": [
       "\\begin{enumerate*}\n",
       "\\item 'assign'\n",
       "\\item 'call'\n",
       "\\item 'coefficients'\n",
       "\\item 'contrasts'\n",
       "\\item 'df.residual'\n",
       "\\item 'effects'\n",
       "\\item 'fitted.values'\n",
       "\\item 'model'\n",
       "\\item 'na.action'\n",
       "\\item 'qr'\n",
       "\\item 'rank'\n",
       "\\item 'residuals'\n",
       "\\item 'terms'\n",
       "\\item 'xlevels'\n",
       "\\end{enumerate*}\n"
      ],
      "text/markdown": [
       "1. 'assign'\n",
       "2. 'call'\n",
       "3. 'coefficients'\n",
       "4. 'contrasts'\n",
       "5. 'df.residual'\n",
       "6. 'effects'\n",
       "7. 'fitted.values'\n",
       "8. 'model'\n",
       "9. 'na.action'\n",
       "10. 'qr'\n",
       "11. 'rank'\n",
       "12. 'residuals'\n",
       "13. 'terms'\n",
       "14. 'xlevels'\n",
       "\n",
       "\n"
      ],
      "text/plain": [
       " [1] \"assign\"        \"call\"          \"coefficients\"  \"contrasts\"    \n",
       " [5] \"df.residual\"   \"effects\"       \"fitted.values\" \"model\"        \n",
       " [9] \"na.action\"     \"qr\"            \"rank\"          \"residuals\"    \n",
       "[13] \"terms\"         \"xlevels\"      "
      ]
     },
     "metadata": {},
     "output_type": "display_data"
    }
   ],
   "source": [
    "objects(prestige.mod.1)"
   ]
  },
  {
   "cell_type": "markdown",
   "metadata": {},
   "source": [
    "#### Plot fitted vs actual values"
   ]
  },
  {
   "cell_type": "code",
   "execution_count": 314,
   "metadata": {
    "scrolled": true
   },
   "outputs": [
    {
     "data": {
      "image/png": "[encoded data removed]",
      "text/plain": [
       "plot without title"
      ]
     },
     "metadata": {},
     "output_type": "display_data"
    }
   ],
   "source": [
    "scatterplot(prestige.mod.1$model$prestige, prestige.mod.1$fitted.values, groups=prestige.mod.1$model$type)\n",
    "abline(a=0,b=1)"
   ]
  },
  {
   "cell_type": "code",
   "execution_count": 315,
   "metadata": {
    "collapsed": true
   },
   "outputs": [],
   "source": [
    "### Exercise 2: Plot predictions that you would have gotten for each group without taking the profession type into account"
   ]
  },
  {
   "cell_type": "markdown",
   "metadata": {},
   "source": [
    "Get coefficients, use to get predictions"
   ]
  },
  {
   "cell_type": "code",
   "execution_count": 316,
   "metadata": {
    "collapsed": true
   },
   "outputs": [],
   "source": [
    "p_coefs = coef(prestige.mod.1)\n",
    "avg_coef = mean(c(p_coefs[1], p_coefs[1] + p_coefs[4], p_coefs[1] + p_coefs[5]))\n",
    "ed_coef = p_coefs[2]\n",
    "inc_coef = p_coefs[3]\n",
    "avg_pred = avg_coef + ed_coef*prestige.mod.1$model$education + inc_coef*prestige.mod.1$model$'log2(income)'"
   ]
  },
  {
   "cell_type": "markdown",
   "metadata": {},
   "source": [
    "Plot"
   ]
  },
  {
   "cell_type": "code",
   "execution_count": 317,
   "metadata": {
    "scrolled": true
   },
   "outputs": [
    {
     "data": {
      "image/png": "[encoded data removed]",
      "text/plain": [
       "plot without title"
      ]
     },
     "metadata": {},
     "output_type": "display_data"
    }
   ],
   "source": [
    "scatterplot(prestige.mod.1$model$prestige, avg_pred, groups=prestige.mod.1$model$type)"
   ]
  },
  {
   "cell_type": "code",
   "execution_count": 318,
   "metadata": {
    "scrolled": true
   },
   "outputs": [
    {
     "data": {
      "image/png": "[encoded data removed]",
      "text/plain": [
       "plot without title"
      ]
     },
     "metadata": {},
     "output_type": "display_data"
    }
   ],
   "source": [
    "scatterplot(prestige.mod.1$model$prestige, avg_pred, col=prestige.mod.1$model$type)"
   ]
  },
  {
   "cell_type": "markdown",
   "metadata": {},
   "source": [
    "#### Remainder of exercise 2"
   ]
  },
  {
   "cell_type": "code",
   "execution_count": 319,
   "metadata": {},
   "outputs": [
    {
     "data": {
      "text/plain": [
       "\n",
       "Call:\n",
       "lm(formula = prestige ~ education + income, data = Prestige)\n",
       "\n",
       "Residuals:\n",
       "     Min       1Q   Median       3Q      Max \n",
       "-19.4040  -5.3308   0.0154   4.9803  17.6889 \n",
       "\n",
       "Coefficients:\n",
       "              Estimate Std. Error t value Pr(>|t|)\n",
       "(Intercept) -6.8477787  3.2189771  -2.127   0.0359\n",
       "education    4.1374444  0.3489120  11.858  < 2e-16\n",
       "income       0.0013612  0.0002242   6.071 2.36e-08\n",
       "\n",
       "Residual standard error: 7.81 on 99 degrees of freedom\n",
       "Multiple R-squared:  0.798,\tAdjusted R-squared:  0.7939 \n",
       "F-statistic: 195.6 on 2 and 99 DF,  p-value: < 2.2e-16\n"
      ]
     },
     "metadata": {},
     "output_type": "display_data"
    },
    {
     "data": {
      "text/plain": [
       "\n",
       "Call:\n",
       "lm(formula = prestige ~ income * education, data = Prestige)\n",
       "\n",
       "Residuals:\n",
       "     Min       1Q   Median       3Q      Max \n",
       "-17.0026  -5.1918   0.3768   4.5915  19.9312 \n",
       "\n",
       "Coefficients:\n",
       "                   Estimate Std. Error t value Pr(>|t|)\n",
       "(Intercept)      -2.207e+01  6.581e+00  -3.353 0.001136\n",
       "income            3.944e-03  1.007e-03   3.918 0.000165\n",
       "education         5.373e+00  5.797e-01   9.270 4.65e-15\n",
       "income:education -1.961e-04  7.460e-05  -2.628 0.009958\n",
       "\n",
       "Residual standard error: 7.587 on 98 degrees of freedom\n",
       "Multiple R-squared:  0.8113,\tAdjusted R-squared:  0.8055 \n",
       "F-statistic: 140.5 on 3 and 98 DF,  p-value: < 2.2e-16\n"
      ]
     },
     "metadata": {},
     "output_type": "display_data"
    },
    {
     "data": {
      "text/html": [
       "<table>\n",
       "<thead><tr><th scope=col>Res.Df</th><th scope=col>RSS</th><th scope=col>Df</th><th scope=col>Sum of Sq</th><th scope=col>F</th><th scope=col>Pr(&gt;F)</th></tr></thead>\n",
       "<tbody>\n",
       "\t<tr><td>99         </td><td>6038.851   </td><td>NA         </td><td>     NA    </td><td>      NA   </td><td>         NA</td></tr>\n",
       "\t<tr><td>98         </td><td>5641.156   </td><td> 1         </td><td>397.695    </td><td>6.908887   </td><td>0.009957725</td></tr>\n",
       "</tbody>\n",
       "</table>\n"
      ],
      "text/latex": [
       "\\begin{tabular}{r|llllll}\n",
       " Res.Df & RSS & Df & Sum of Sq & F & Pr(>F)\\\\\n",
       "\\hline\n",
       "\t 99          & 6038.851    & NA          &      NA     &       NA    &          NA\\\\\n",
       "\t 98          & 5641.156    &  1          & 397.695     & 6.908887    & 0.009957725\\\\\n",
       "\\end{tabular}\n"
      ],
      "text/markdown": [
       "\n",
       "Res.Df | RSS | Df | Sum of Sq | F | Pr(>F) | \n",
       "|---|---|\n",
       "| 99          | 6038.851    | NA          |      NA     |       NA    |          NA | \n",
       "| 98          | 5641.156    |  1          | 397.695     | 6.908887    | 0.009957725 | \n",
       "\n",
       "\n"
      ],
      "text/plain": [
       "  Res.Df RSS      Df Sum of Sq F        Pr(>F)     \n",
       "1 99     6038.851 NA      NA         NA          NA\n",
       "2 98     5641.156  1 397.695   6.908887 0.009957725"
      ]
     },
     "metadata": {},
     "output_type": "display_data"
    },
    {
     "data": {},
     "metadata": {},
     "output_type": "display_data"
    },
    {
     "data": {
      "image/png": "[encoded data removed]",
      "text/plain": [
       "plot without title"
      ]
     },
     "metadata": {},
     "output_type": "display_data"
    },
    {
     "data": {
      "text/plain": [
       "\n",
       "Call:\n",
       "lm(formula = prestige ~ ns(income, df = 4), data = Prestige)\n",
       "\n",
       "Residuals:\n",
       "    Min      1Q  Median      3Q     Max \n",
       "-17.404  -7.458  -2.533   8.234  32.980 \n",
       "\n",
       "Coefficients:\n",
       "                    Estimate Std. Error t value Pr(>|t|)\n",
       "(Intercept)           17.512      6.756   2.592 0.011019\n",
       "ns(income, df = 4)1   27.271      6.776   4.024 0.000113\n",
       "ns(income, df = 4)2   56.462      7.355   7.677 1.30e-11\n",
       "ns(income, df = 4)3   78.286     15.699   4.987 2.69e-06\n",
       "ns(income, df = 4)4   51.459      8.265   6.226 1.22e-08\n",
       "\n",
       "Residual standard error: 11.14 on 97 degrees of freedom\n",
       "Multiple R-squared:  0.597,\tAdjusted R-squared:  0.5804 \n",
       "F-statistic: 35.92 on 4 and 97 DF,  p-value: < 2.2e-16\n"
      ]
     },
     "metadata": {},
     "output_type": "display_data"
    },
    {
     "data": {},
     "metadata": {},
     "output_type": "display_data"
    },
    {
     "data": {
      "image/png": "[encoded data removed]",
      "text/plain": [
       "plot without title"
      ]
     },
     "metadata": {},
     "output_type": "display_data"
    },
    {
     "data": {
      "text/html": [
       "<table>\n",
       "<thead><tr><th></th><th scope=col>(Intercept)</th><th scope=col>typewc</th><th scope=col>typeprof</th><th scope=col>education</th><th scope=col>typewc:education</th><th scope=col>typeprof:education</th></tr></thead>\n",
       "<tbody>\n",
       "\t<tr><th scope=row>gov.administrators</th><td>1    </td><td>0    </td><td>1    </td><td>13.11</td><td> 0.00</td><td>13.11</td></tr>\n",
       "\t<tr><th scope=row>general.managers</th><td>1    </td><td>0    </td><td>1    </td><td>12.26</td><td> 0.00</td><td>12.26</td></tr>\n",
       "\t<tr><th scope=row>typists</th><td>1    </td><td>1    </td><td>0    </td><td>11.49</td><td>11.49</td><td> 0.00</td></tr>\n",
       "\t<tr><th scope=row>bookkeepers</th><td>1    </td><td>1    </td><td>0    </td><td>11.32</td><td>11.32</td><td> 0.00</td></tr>\n",
       "\t<tr><th scope=row>launderers</th><td>1    </td><td>0    </td><td>0    </td><td> 7.33</td><td> 0.00</td><td> 0.00</td></tr>\n",
       "\t<tr><th scope=row>janitors</th><td>1    </td><td>0    </td><td>0    </td><td> 7.11</td><td> 0.00</td><td> 0.00</td></tr>\n",
       "</tbody>\n",
       "</table>\n"
      ],
      "text/latex": [
       "\\begin{tabular}{r|llllll}\n",
       "  & (Intercept) & typewc & typeprof & education & typewc:education & typeprof:education\\\\\n",
       "\\hline\n",
       "\tgov.administrators & 1     & 0     & 1     & 13.11 &  0.00 & 13.11\\\\\n",
       "\tgeneral.managers & 1     & 0     & 1     & 12.26 &  0.00 & 12.26\\\\\n",
       "\ttypists & 1     & 1     & 0     & 11.49 & 11.49 &  0.00\\\\\n",
       "\tbookkeepers & 1     & 1     & 0     & 11.32 & 11.32 &  0.00\\\\\n",
       "\tlaunderers & 1     & 0     & 0     &  7.33 &  0.00 &  0.00\\\\\n",
       "\tjanitors & 1     & 0     & 0     &  7.11 &  0.00 &  0.00\\\\\n",
       "\\end{tabular}\n"
      ],
      "text/markdown": [
       "\n",
       "| <!--/--> | (Intercept) | typewc | typeprof | education | typewc:education | typeprof:education | \n",
       "|---|---|---|---|---|---|\n",
       "| gov.administrators | 1     | 0     | 1     | 13.11 |  0.00 | 13.11 | \n",
       "| general.managers | 1     | 0     | 1     | 12.26 |  0.00 | 12.26 | \n",
       "| typists | 1     | 1     | 0     | 11.49 | 11.49 |  0.00 | \n",
       "| bookkeepers | 1     | 1     | 0     | 11.32 | 11.32 |  0.00 | \n",
       "| launderers | 1     | 0     | 0     |  7.33 |  0.00 |  0.00 | \n",
       "| janitors | 1     | 0     | 0     |  7.11 |  0.00 |  0.00 | \n",
       "\n",
       "\n"
      ],
      "text/plain": [
       "                   (Intercept) typewc typeprof education typewc:education\n",
       "gov.administrators 1           0      1        13.11      0.00           \n",
       "general.managers   1           0      1        12.26      0.00           \n",
       "typists            1           1      0        11.49     11.49           \n",
       "bookkeepers        1           1      0        11.32     11.32           \n",
       "launderers         1           0      0         7.33      0.00           \n",
       "janitors           1           0      0         7.11      0.00           \n",
       "                   typeprof:education\n",
       "gov.administrators 13.11             \n",
       "general.managers   12.26             \n",
       "typists             0.00             \n",
       "bookkeepers         0.00             \n",
       "launderers          0.00             \n",
       "janitors            0.00             "
      ]
     },
     "metadata": {},
     "output_type": "display_data"
    },
    {
     "data": {
      "text/plain": [
       "\n",
       "Call:\n",
       "lm(formula = prestige ~ education * type + log2(income) * type, \n",
       "    data = Prestige)\n",
       "\n",
       "Residuals:\n",
       "    Min      1Q  Median      3Q     Max \n",
       "-13.970  -4.124   1.206   3.829  18.059 \n",
       "\n",
       "Coefficients:\n",
       "                       Estimate Std. Error t value Pr(>|t|)\n",
       "(Intercept)           -120.0459    20.1576  -5.955 5.07e-08\n",
       "education                2.3357     0.9277   2.518  0.01360\n",
       "typewc                  30.2412    37.9788   0.796  0.42800\n",
       "typeprof                85.1601    31.1810   2.731  0.00761\n",
       "log2(income)            11.0782     1.8063   6.133 2.32e-08\n",
       "education:typewc         3.6400     1.7589   2.069  0.04140\n",
       "education:typeprof       0.6974     1.2895   0.541  0.58998\n",
       "typewc:log2(income)     -5.6530     3.0519  -1.852  0.06730\n",
       "typeprof:log2(income)   -6.5356     2.6167  -2.498  0.01434\n",
       "\n",
       "Residual standard error: 6.409 on 89 degrees of freedom\n",
       "  (4 observations deleted due to missingness)\n",
       "Multiple R-squared:  0.871,\tAdjusted R-squared:  0.8595 \n",
       "F-statistic: 75.15 on 8 and 89 DF,  p-value: < 2.2e-16\n"
      ]
     },
     "metadata": {},
     "output_type": "display_data"
    },
    {
     "data": {
      "text/plain": [
       "\n",
       "Call:\n",
       "lm(formula = prestige ~ type * (education + log2(income)), data = Prestige)\n",
       "\n",
       "Residuals:\n",
       "    Min      1Q  Median      3Q     Max \n",
       "-13.970  -4.124   1.206   3.829  18.059 \n",
       "\n",
       "Coefficients:\n",
       "                       Estimate Std. Error t value Pr(>|t|)\n",
       "(Intercept)           -120.0459    20.1576  -5.955 5.07e-08\n",
       "typewc                  30.2412    37.9788   0.796  0.42800\n",
       "typeprof                85.1601    31.1810   2.731  0.00761\n",
       "education                2.3357     0.9277   2.518  0.01360\n",
       "log2(income)            11.0782     1.8063   6.133 2.32e-08\n",
       "typewc:education         3.6400     1.7589   2.069  0.04140\n",
       "typeprof:education       0.6974     1.2895   0.541  0.58998\n",
       "typewc:log2(income)     -5.6530     3.0519  -1.852  0.06730\n",
       "typeprof:log2(income)   -6.5356     2.6167  -2.498  0.01434\n",
       "\n",
       "Residual standard error: 6.409 on 89 degrees of freedom\n",
       "  (4 observations deleted due to missingness)\n",
       "Multiple R-squared:  0.871,\tAdjusted R-squared:  0.8595 \n",
       "F-statistic: 75.15 on 8 and 89 DF,  p-value: < 2.2e-16\n"
      ]
     },
     "metadata": {},
     "output_type": "display_data"
    },
    {
     "data": {
      "image/png": "[encoded data removed]",
      "text/plain": [
       "plot without title"
      ]
     },
     "metadata": {},
     "output_type": "display_data"
    }
   ],
   "source": [
    "\n",
    "# ############################################\n",
    "# lm() can also be used for modeling interactions.  THis is a form of \"linearization\" of non-linear effects.  \n",
    "# Always visualize your data\n",
    "scatterplotMatrix(~ prestige + log2(income) + education + women | type, data=Prestige, by.group=TRUE, id.n=0,\n",
    "                  smooth=FALSE, col=gray(c(0,0.5,0.7)))\n",
    "\n",
    "# Before looking at interactions, we are understanding how linear regression can be used to fit non-linear terms. This is done by adding \"regressors\".  K \"predictors\"  can be manipulated to generate many more (>K) \"regressors\".\n",
    "\n",
    "# We can compare the model that predicts prestige with income and education as additive predictor variables with a model that also includes a multiplicative term.\n",
    "\n",
    "prestige.mod.1 <- lm(prestige ~ education + income, data=Prestige)\n",
    "prestige.mod.2 <- lm(prestige ~ income*education, data=Prestige) #review this some more -- unclear on how these coefficients work together\n",
    "summary(prestige.mod.1)\n",
    "summary(prestige.mod.2)\n",
    "\n",
    "anova(prestige.mod.1,prestige.mod.2) #weaker st, sig p val means it improved things\n",
    "\n",
    "library(effects)\n",
    "plot(effect(\"income:education\", prestige.mod.2))\n",
    "\n",
    "# More generally one can fit a non-linear function with splines.\n",
    "# Splines are piece-wise polynomial fits to function\n",
    "library(splines)\n",
    "prestige.mod.3 <- lm(prestige ~ ns(income, df=4), data=Prestige)\n",
    "summary(prestige.mod.3)\n",
    "\n",
    "# Let's display the effect.\n",
    "\n",
    "plot(effect(\"ns(income, df=4)\", prestige.mod.3))\n",
    "\n",
    "\n",
    "# We are now going to do a ANACOVA demonstration with interaction\n",
    "select <- c(1, 2, 35, 36, 61, 62) # a few rows\n",
    "\n",
    "# The interaction term adds new variables in the models.  Interaction terms with factors are shown with :. R is smart and creates all the necessary additional terms.  Let's look at these:\n",
    "\n",
    "model.matrix(~ type + education + education:type,\n",
    "  data=Prestige)[select, ]\n",
    "  \n",
    "# There is more than one way to specify the equation the * is used for both the linear and the multiplicative term (interaction)  \n",
    "prestige.mod.4a <- lm(prestige ~ education*type + log2(income)*type,\n",
    "                      data=Prestige)\n",
    "summary(prestige.mod.4a)\n",
    "\n",
    "prestige.mod.4b <- lm(prestige ~ type*(education + log2(income)),\n",
    "                      data=Prestige)\n",
    "summary(prestige.mod.4b)"
   ]
  },
  {
   "cell_type": "markdown",
   "metadata": {},
   "source": [
    "### Exercise 3: Plot results of ANCOVA, discuss results of diagnostic plots"
   ]
  },
  {
   "cell_type": "markdown",
   "metadata": {},
   "source": [
    "Plot the result of this ANACOVA with interaction using the plot command and the effect command for education*type in model 4a.  Try also the leveragePlots() and residualsPlot(). Explain what you see."
   ]
  },
  {
   "cell_type": "code",
   "execution_count": 320,
   "metadata": {},
   "outputs": [
    {
     "data": {
      "image/png": "[encoded data removed]",
      "text/plain": [
       "Plot with title \"\""
      ]
     },
     "metadata": {},
     "output_type": "display_data"
    },
    {
     "data": {
      "image/png": "[encoded data removed]",
      "text/plain": [
       "Plot with title \"\""
      ]
     },
     "metadata": {},
     "output_type": "display_data"
    },
    {
     "data": {
      "image/png": "[encoded data removed]",
      "text/plain": [
       "Plot with title \"\""
      ]
     },
     "metadata": {},
     "output_type": "display_data"
    },
    {
     "data": {
      "image/png": "[encoded data removed]",
      "text/plain": [
       "Plot with title \"\""
      ]
     },
     "metadata": {},
     "output_type": "display_data"
    }
   ],
   "source": [
    "plot(prestige.mod.4a)\n",
    "#Residuals v fitted looks all right -- there is not a distinctive pattern\n",
    "#in the residuals which would imply that eg there is a non \n",
    "#linear relationship not being explained. \n",
    "\n",
    "#Normal Q-Q looks more or less ok, but it does have some deviation \n",
    "#at the tails of the data, and the center of the plot is slightly bowed\n",
    "#ideally, all of the points would be clustered around the center line\n",
    "#more tightly, without deviation, implying that they are normally \n",
    "#distributed. In this case, they aren't quite. So, we might not be \n",
    "#accounting for some of the variability in our data\n",
    "\n",
    "#The scale-location plot confirms the above. There is a more noticeable\n",
    "#bowing in the red line. So, it seems like homoscedacity might be \n",
    "# slightly violated here. There seems to be some heteroscedacity at the \n",
    "#edges of the range, as the fitted line goes up\n",
    "#However, it doesn't look really bad -- e.g. like a cone, so I'm not\n",
    "#necessarily too concerned. \n",
    "\n",
    "#the residuals v leverage plot looks ok. No points are outside cook's \n",
    "#distance lines -- you can barely see the lines at all. \n",
    "# While some are closer than others, overall this doesn't indicate an \n",
    "#issue with some points being too influential"
   ]
  },
  {
   "cell_type": "code",
   "execution_count": 321,
   "metadata": {},
   "outputs": [
    {
     "data": {},
     "metadata": {},
     "output_type": "display_data"
    },
    {
     "data": {
      "image/png": "[encoded data removed]",
      "text/plain": [
       "plot without title"
      ]
     },
     "metadata": {},
     "output_type": "display_data"
    }
   ],
   "source": [
    "plot(effect(\"education*type\", prestige.mod.4a))\n",
    "#The slope is noticeably higher for white collar professions, \n",
    "# indicating that education has a larger effect on prestige for these\n",
    "#professions than others\n",
    "\n",
    "#However, they are all the same direction (positive), so this is a difference\n",
    "#of degree, rather than totally changing the direction of \n",
    "#the relationship\n",
    "#blue collar and professional don't appear to be significantly different, although the confidence interval for bc is much wider at many years of \n",
    "#education, and much lower for professional at the lower numbers of years\n",
    "#of education. This could indicate that the effects are more variable\n",
    "#in those ranges or we have less data within them. "
   ]
  },
  {
   "cell_type": "code",
   "execution_count": 322,
   "metadata": {},
   "outputs": [
    {
     "data": {
      "image/png": "[encoded data removed]",
      "text/plain": [
       "plot without title"
      ]
     },
     "metadata": {},
     "output_type": "display_data"
    }
   ],
   "source": [
    "leveragePlots(prestige.mod.4a)\n",
    "#it looks like every term is contributing to the model at least somewhat\n",
    "# (ie none are a horizontal line)\n",
    "# none are colinear with prestige, based on this plot (ie none are a \n",
    "#vertical line)"
   ]
  },
  {
   "cell_type": "code",
   "execution_count": 323,
   "metadata": {},
   "outputs": [
    {
     "data": {
      "text/html": [
       "<table>\n",
       "<thead><tr><th></th><th scope=col>Test stat</th><th scope=col>Pr(&gt;|t|)</th></tr></thead>\n",
       "<tbody>\n",
       "\t<tr><th scope=row>education</th><td>1.586</td><td>0.116</td></tr>\n",
       "\t<tr><th scope=row>type</th><td>   NA</td><td>   NA</td></tr>\n",
       "\t<tr><th scope=row>log2(income)</th><td>1.872</td><td>0.065</td></tr>\n",
       "\t<tr><th scope=row>Tukey test</th><td>2.157</td><td>0.031</td></tr>\n",
       "</tbody>\n",
       "</table>\n"
      ],
      "text/latex": [
       "\\begin{tabular}{r|ll}\n",
       "  & Test stat & Pr(>\\textbar{}t\\textbar{})\\\\\n",
       "\\hline\n",
       "\teducation & 1.586 & 0.116\\\\\n",
       "\ttype &    NA &    NA\\\\\n",
       "\tlog2(income) & 1.872 & 0.065\\\\\n",
       "\tTukey test & 2.157 & 0.031\\\\\n",
       "\\end{tabular}\n"
      ],
      "text/markdown": [
       "\n",
       "| <!--/--> | Test stat | Pr(>|t|) | \n",
       "|---|---|---|---|\n",
       "| education | 1.586 | 0.116 | \n",
       "| type |    NA |    NA | \n",
       "| log2(income) | 1.872 | 0.065 | \n",
       "| Tukey test | 2.157 | 0.031 | \n",
       "\n",
       "\n"
      ],
      "text/plain": [
       "             Test stat Pr(>|t|)\n",
       "education    1.586     0.116   \n",
       "type            NA        NA   \n",
       "log2(income) 1.872     0.065   \n",
       "Tukey test   2.157     0.031   "
      ]
     },
     "metadata": {},
     "output_type": "display_data"
    },
    {
     "data": {
      "image/png": "[encoded data removed]",
      "text/plain": [
       "plot without title"
      ]
     },
     "metadata": {},
     "output_type": "display_data"
    }
   ],
   "source": [
    "residualPlots(prestige.mod.4a)\n",
    "#what I'd like things to look like here is a bunch of points randomly scattered\n",
    "#around a horizontal best fit line, with about equal distance from the \n",
    "#horizontal line vertically all along the plot\n",
    "\n",
    "#That is mostly the case here, with some minor exceptions \n",
    "\n",
    "#education looks the best -- basicly random residuals best fit by a basically horizontal line\n",
    "# log2(income) still has something of a curved fit line, implying there\n",
    "#might still be a better way to model this term\n",
    "#Overall, however, looking at the fitted values it appears that our model\n",
    "#is doing an all right job fitting the data and most assumptions aren't violated, except slightly at the tails of the data"
   ]
  }
 ],
 "metadata": {
  "anaconda-cloud": {},
  "kernelspec": {
   "display_name": "R",
   "language": "R",
   "name": "ir"
  },
  "language_info": {
   "codemirror_mode": "r",
   "file_extension": ".r",
   "mimetype": "text/x-r-source",
   "name": "R",
   "pygments_lexer": "r",
   "version": "3.4.2"
  }
 },
 "nbformat": 4,
 "nbformat_minor": 1
}
